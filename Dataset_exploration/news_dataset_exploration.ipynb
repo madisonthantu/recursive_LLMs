{
 "cells": [
  {
   "cell_type": "code",
   "execution_count": 51,
   "metadata": {},
   "outputs": [],
   "source": [
    "import sys \n",
    "import os\n",
    "sys.path.append(os.path.abspath(\"/Users/madisonthantu/Desktop/COMS 6998/Final Project/recursive_LLMs\"))\n",
    "# import src.Measurement.globals\n",
    "# from src.Measurement.measurement import Measurement\n",
    "# sys.path.append(os.path.abspath(\"/Users/madisonthantu/Desktop/COMS 6998/Final Project/recursive_LLMs\"))\n",
    "# from src.utils import *\n",
    "# globals.init()\n",
    "# print(globals.API_URL)\n",
    "\n",
    "import os\n",
    "import sys\n",
    "import argparse\n",
    "from tqdm import tqdm\n",
    "import pickle\n",
    "import pandas as pd\n",
    "import numpy as np\n",
    "\n",
    "\n",
    "import torch, os, re, pandas as pd, json\n",
    "# from sklearn.model_selection import train_test_split\n",
    "from transformers import DataCollatorForLanguageModeling, GPT2Tokenizer, GPT2LMHeadModel, Trainer, TrainingArguments, AutoConfig\n",
    "from datasets import Dataset, load_dataset\n",
    "\n",
    "from huggingface_hub import login"
   ]
  },
  {
   "cell_type": "code",
   "execution_count": 57,
   "metadata": {},
   "outputs": [],
   "source": [
    "dataset_names = ['news', 'reddit', 'dialogue']\n",
    "dataset_paths = {\n",
    "    'news': '/Users/madisonthantu/Desktop/COMS_6998/Final_Project/recursive_LLMs/Data/initial_datasets/news/sharded',\n",
    "    'reddit': '/Users/madisonthantu/Desktop/COMS_6998/Final_Project/recursive_LLMs/Data/initial_datasets/reddit/sharded',\n",
    "    'dialogue': '/Users/madisonthantu/Desktop/COMS_6998/Final_Project/recursive_LLMs/Data/initial_datasets/dialogue'\n",
    "}"
   ]
  },
  {
   "cell_type": "code",
   "execution_count": 58,
   "metadata": {},
   "outputs": [],
   "source": [
    "base_tokenizer = GPT2Tokenizer.from_pretrained('gpt2')\n",
    "separator = \" TL;DR \"\n",
    "separator_length = len(base_tokenizer.tokenize(separator))\n",
    "global_max_length = base_tokenizer.model_max_length\n",
    "# src_length = global_max_length - separator_length - target_length\n",
    "summary_column = 'summary'\n",
    "padding = 'do_not_pad'\n",
    "eos = '<|EOS|>'"
   ]
  },
  {
   "cell_type": "code",
   "execution_count": 59,
   "metadata": {},
   "outputs": [],
   "source": [
    "def preprocess(sample):\n",
    "    summary = sample[summary_column] + ' ' + eos\n",
    "    labels = base_tokenizer(summary, padding=padding, truncation=False, return_attention_mask=False)#, return_tensors='pt')\n",
    "    \n",
    "    return labels"
   ]
  },
  {
   "cell_type": "code",
   "execution_count": 61,
   "metadata": {},
   "outputs": [
    {
     "name": "stdout",
     "output_type": "stream",
     "text": [
      "news\n"
     ]
    },
    {
     "data": {
      "application/vnd.jupyter.widget-view+json": {
       "model_id": "6e2e55997d6f4792a8ebfd0568dec22c",
       "version_major": 2,
       "version_minor": 0
      },
      "text/plain": [
       "Map:   0%|          | 0/38997 [00:00<?, ? examples/s]"
      ]
     },
     "metadata": {},
     "output_type": "display_data"
    },
    {
     "name": "stderr",
     "output_type": "stream",
     "text": [
      "Token indices sequence length is longer than the specified maximum sequence length for this model (1408 > 1024). Running this sequence through the model will result in indexing errors\n"
     ]
    },
    {
     "name": "stdout",
     "output_type": "stream",
     "text": [
      "reddit\n"
     ]
    },
    {
     "data": {
      "application/vnd.jupyter.widget-view+json": {
       "model_id": "b6c601d9f99442c998ce1ec9fe0b0e4f",
       "version_major": 2,
       "version_minor": 0
      },
      "text/plain": [
       "Map:   0%|          | 0/21070 [00:00<?, ? examples/s]"
      ]
     },
     "metadata": {},
     "output_type": "display_data"
    },
    {
     "name": "stdout",
     "output_type": "stream",
     "text": [
      "dialogue\n"
     ]
    },
    {
     "data": {
      "application/vnd.jupyter.widget-view+json": {
       "model_id": "fd27e5ca69334e019ad33ea2694751f3",
       "version_major": 2,
       "version_minor": 0
      },
      "text/plain": [
       "Downloading data files:   0%|          | 0/1 [00:00<?, ?it/s]"
      ]
     },
     "metadata": {},
     "output_type": "display_data"
    },
    {
     "data": {
      "application/vnd.jupyter.widget-view+json": {
       "model_id": "dda12c7ebd2f458cb889bfefd4eee081",
       "version_major": 2,
       "version_minor": 0
      },
      "text/plain": [
       "Extracting data files:   0%|          | 0/1 [00:00<?, ?it/s]"
      ]
     },
     "metadata": {},
     "output_type": "display_data"
    },
    {
     "data": {
      "application/vnd.jupyter.widget-view+json": {
       "model_id": "c0fc2a326b1747b68e295c0b9143357d",
       "version_major": 2,
       "version_minor": 0
      },
      "text/plain": [
       "Generating train split: 0 examples [00:00, ? examples/s]"
      ]
     },
     "metadata": {},
     "output_type": "display_data"
    },
    {
     "data": {
      "application/vnd.jupyter.widget-view+json": {
       "model_id": "a15e20dd49704389ab422f4af3801633",
       "version_major": 2,
       "version_minor": 0
      },
      "text/plain": [
       "Map:   0%|          | 0/16369 [00:00<?, ? examples/s]"
      ]
     },
     "metadata": {},
     "output_type": "display_data"
    }
   ],
   "source": [
    "max_target_lengths = {}\n",
    "percentiles = [50, 75, 90, 95, 99.5]\n",
    "\n",
    "for dataset_name in dataset_names:\n",
    "    print(dataset_name)\n",
    "    dataset = load_dataset(dataset_paths[dataset_name], data_files='full_data.csv')['train']\n",
    "    tokenized_dataset = dataset.map(\n",
    "        preprocess,\n",
    "        remove_columns=dataset.column_names,\n",
    "    )\n",
    "    tokenized_summ_lens = np.array([len(x) for x in tokenized_dataset['input_ids']])\n",
    "    dataset_percentiles = np.percentile(tokenized_summ_lens, percentiles)\n",
    "    max_target_lengths[dataset_name] = dataset_percentiles"
   ]
  },
  {
   "cell_type": "code",
   "execution_count": 63,
   "metadata": {},
   "outputs": [
    {
     "name": "stdout",
     "output_type": "stream",
     "text": [
      "Percentile 50 \n",
      "\tNews=68.0\tReddit=28.0\tDialogue=28.0\n",
      "Percentile 75 \n",
      "\tNews=83.0\tReddit=37.0\tDialogue=39.0\n",
      "Percentile 90 \n",
      "\tNews=104.0\tReddit=49.0\tDialogue=51.0\n",
      "Percentile 95 \n",
      "\tNews=121.0\tReddit=59.0\tDialogue=59.0\n",
      "Percentile 99.5 \n",
      "\tNews=174.0\tReddit=96.0\tDialogue=75.0\n"
     ]
    }
   ],
   "source": [
    "for i, p in enumerate(percentiles):\n",
    "    print(f\"Percentile {p} \\n\\tNews={max_target_lengths['news'][i]}\\tReddit={max_target_lengths['reddit'][i]}\\tDialogue={max_target_lengths['dialogue'][i]}\")"
   ]
  },
  {
   "cell_type": "code",
   "execution_count": null,
   "metadata": {},
   "outputs": [],
   "source": []
  }
 ],
 "metadata": {
  "kernelspec": {
   "display_name": "langgen",
   "language": "python",
   "name": "python3"
  },
  "language_info": {
   "codemirror_mode": {
    "name": "ipython",
    "version": 3
   },
   "file_extension": ".py",
   "mimetype": "text/x-python",
   "name": "python",
   "nbconvert_exporter": "python",
   "pygments_lexer": "ipython3",
   "version": "3.10.6"
  }
 },
 "nbformat": 4,
 "nbformat_minor": 2
}
