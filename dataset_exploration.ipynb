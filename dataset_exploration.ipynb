{
 "cells": [
  {
   "cell_type": "code",
   "execution_count": 76,
   "metadata": {},
   "outputs": [],
   "source": [
    "from datasets import load_dataset_builder, load_dataset\n",
    "import re\n",
    "import matplotlib.pyplot as plt"
   ]
  },
  {
   "cell_type": "code",
   "execution_count": 13,
   "metadata": {},
   "outputs": [
    {
     "name": "stderr",
     "output_type": "stream",
     "text": [
      "Downloading data: 100%|██████████| 142M/142M [00:05<00:00, 27.3MB/s] \n",
      "Generating train split: 100%|██████████| 42139/42139 [00:03<00:00, 10680.48 examples/s]\n"
     ]
    }
   ],
   "source": [
    "tifu = load_dataset(\"reddit_tifu\", 'long')"
   ]
  },
  {
   "cell_type": "code",
   "execution_count": 78,
   "metadata": {},
   "outputs": [
    {
     "data": {
      "text/plain": [
       "(array([78.,  0.,  0., ...,  0.,  0.,  1.]),\n",
       " array([0.00000000e+00, 7.43655638e-02, 1.48731128e-01, ...,\n",
       "        4.62851269e+02, 4.62925634e+02, 4.63000000e+02]),\n",
       " <BarContainer object of 6226 artists>)"
      ]
     },
     "execution_count": 78,
     "metadata": {},
     "output_type": "execute_result"
    },
    {
     "data": {
      "image/png": "[encoded data removed]",
      "text/plain": [
       "<Figure size 640x480 with 2 Axes>"
      ]
     },
     "metadata": {},
     "output_type": "display_data"
    }
   ],
   "source": [
    "# tifu = tifu.add_column\n",
    "doc_tok_cnt = [len(re.findall(r'\\w+', sentence)) for sentence in tifu['train']['documents']]\n",
    "summ_tok_cnt = [len(re.findall(r'\\w+', sentence)) for sentence in tifu['train']['tldr']]\n",
    "\n",
    "fig, axs = plt.subplots(1, 2, sharey=True, tight_layout=True)\n",
    "x_lim = max(doc_tok_cnt) if doc_tok_cnt > summ_tok_cnt else summ_tok_cnt\n",
    "# axs[0].hist(doc_tok_cnt, bins=x_lim)\n",
    "# axs[0].set_title('Number ')\n",
    "# axs[1].hist(summ_tok_cnt, bins=x_lim)"
   ]
  },
  {
   "cell_type": "code",
   "execution_count": 26,
   "metadata": {},
   "outputs": [
    {
     "data": {
      "text/plain": [
       "DatasetDict({\n",
       "    train: Dataset({\n",
       "        features: ['ups', 'num_comments', 'upvote_ratio', 'score', 'documents', 'tldr', 'title'],\n",
       "        num_rows: 33711\n",
       "    })\n",
       "    test: Dataset({\n",
       "        features: ['ups', 'num_comments', 'upvote_ratio', 'score', 'documents', 'tldr', 'title'],\n",
       "        num_rows: 8428\n",
       "    })\n",
       "})"
      ]
     },
     "execution_count": 26,
     "metadata": {},
     "output_type": "execute_result"
    }
   ],
   "source": [
    "# tifu.train_test_split(test_size=0.1)\n",
    "dataset = tifu['train'].train_test_split(test_size=0.2)\n",
    "dataset"
   ]
  },
  {
   "cell_type": "code",
   "execution_count": 59,
   "metadata": {},
   "outputs": [
    {
     "name": "stdout",
     "output_type": "stream",
     "text": [
      ">> title: forgetting how powerful the smell of cum is.\n",
      ">> documents: so i usually masturbate with a t-shirt or a pajama. i fap into them until they're crusty and start scratching my dick when i masturbate with them....\n",
      ">> summary: the stench of my cum-crusted underwear invited hordes of ants to take a piece of it back to their beloved queen. freak out ensued.\n",
      "\n",
      ">> title: bringing a copy of the anarchy cookbook to school\n",
      ">> documents: this happened just a few hours ago during school so that's always a bonus. so i ordered a copy of the anarchy cookbook last week and it came in on saturday. i only skimmed through not really reading the glut of the book but i told my friend about it and he was ecstatic to see it, let's call him ricardo. so my school has about 40 kids per graduating class at my school and there's not enough lunch space for the 2 classes that do have class at the same time so one class it's in a classroom. come lunch time me and ricardo head to a class room and there is no teacher in there. or so we though. we read through and jokingly talk about making lsd and smoking banana peels but ricardo finds a section about making a \"revised pipe bomb\" he precedes to read it out loud. boy was that a mistake. ...\n",
      ">> summary: i brought the anarchist cookbook into school read some lines about making a bomb out loud and got questioned at a police station.\n",
      "\n",
      ">> title: ruining my new car's smell\n",
      ">> documents: like most submissions, the fuck up did not happen today. it happened two days ago, but i only realised today....\n",
      ">> summary: left a packet of chicken thighs in the car for a couple of days in the roasting sun. new car smell ruined. sad face.\n",
      "\n"
     ]
    }
   ],
   "source": [
    "def show_samples(dataset, num_samples=3, seed=42):\n",
    "    sample = dataset[\"train\"].shuffle(seed=seed).select(range(num_samples))\n",
    "    for example in sample:\n",
    "        title, doc, summ = example['title'], example['documents'], example['tldr']\n",
    "        print(f\">> title: {title}\")\n",
    "        print(\">> documents: {0}...\".format(doc[:doc.find('\\n')]))\n",
    "        print(f\">> summary: {summ}\\n\")\n",
    "\n",
    "show_samples(dataset, 3)"
   ]
  },
  {
   "cell_type": "code",
   "execution_count": 43,
   "metadata": {},
   "outputs": [
    {
     "data": {
      "text/plain": [
       "'happened about 20 minutes ago...\\nso i need a textbook for an online college course, and the cheapest option i found was to rent it on my kindle. my dad offers to pay for it, so i pull up amazon and have him enter his credit card info on my laptop. \\n\\nafter ordering the book, it was taking a while to show up on my kindle. thinking something had gone wrong, i decided to pull up my order history, with my dear old conservative father watching. there, in all its pink, fleshy goodness, was the sasha grey pocket pussy i forgot i ordered a few months back. in my panicked clicking frenzy to get this faux fur burger off my screen, i accidentally expanded the picture. yep, my dad and i got the full 17\\'\\' hd experience. \\n\\nturning the laptop away, i finally got the window closed. after an awkward second of silence, i finally suggest seeing if anything has popped up on my kindle yet. he just sort of mutters \"let me know if everything works out...\" and walks away. i am now in a state of cringe i have never felt before.'"
      ]
     },
     "execution_count": 43,
     "metadata": {},
     "output_type": "execute_result"
    }
   ],
   "source": [
    "dataset['train'][3]['documents']"
   ]
  },
  {
   "cell_type": "code",
   "execution_count": null,
   "metadata": {},
   "outputs": [],
   "source": []
  }
 ],
 "metadata": {
  "kernelspec": {
   "display_name": "langgen",
   "language": "python",
   "name": "python3"
  },
  "language_info": {
   "codemirror_mode": {
    "name": "ipython",
    "version": 3
   },
   "file_extension": ".py",
   "mimetype": "text/x-python",
   "name": "python",
   "nbconvert_exporter": "python",
   "pygments_lexer": "ipython3",
   "version": "3.10.6"
  }
 },
 "nbformat": 4,
 "nbformat_minor": 2
}
