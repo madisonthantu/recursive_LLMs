{
 "cells": [
  {
   "cell_type": "code",
   "execution_count": 1,
   "id": "e0553f59-423d-4923-860f-526e1c789b48",
   "metadata": {},
   "outputs": [
    {
     "name": "stdout",
     "output_type": "stream",
     "text": [
      "Linux-5.10.0-25-cloud-amd64-x86_64-with-glibc2.31\n",
      "https://api-inference.huggingface.co/models/s-nlp/roberta-base-formality-ranker\n",
      "https://api-inference.huggingface.co/models/s-nlp/roberta-base-formality-ranker\n",
      "Linux-5.10.0-25-cloud-amd64-x86_64-with-glibc2.31\n"
     ]
    }
   ],
   "source": [
    "import sys \n",
    "import os\n",
    "sys.path.append(os.path.abspath(\"src/Measurement\"))\n",
    "import globals\n",
    "from src.Measurement.measurement import Measurement\n",
    "from src.utils import *\n",
    "globals.init()\n",
    "print(globals.API_URL)\n",
    "\n",
    "import os\n",
    "import sys\n",
    "import argparse\n",
    "from tqdm import tqdm\n",
    "import pickle\n",
    "import pandas as pd\n",
    "import numpy as np\n",
    "\n",
    "\n",
    "from datasets import concatenate_datasets, load_dataset, DatasetDict, Dataset\n",
    "from transformers import DataCollatorForSeq2Seq\n",
    "from transformers import AutoModelForSeq2SeqLM, Seq2SeqTrainingArguments, Seq2SeqTrainer\n",
    "import torch\n",
    "import platform\n",
    "import evaluate\n",
    "from transformers import AutoTokenizer, BartModel, GPT2Model, T5ForConditionalGeneration\n",
    "print(platform.platform())\n",
    "from transformers import pipeline\n",
    "\n",
    "\n",
    "from huggingface_hub import login"
   ]
  },
  {
   "cell_type": "code",
   "execution_count": 3,
   "id": "e94b9092-d1b8-46e5-a6f2-a6dc7741f76a",
   "metadata": {},
   "outputs": [],
   "source": [
    "path = \"test/dialogue/t5/gen_test/results\"\n",
    "file = \"dataset_measurements.pkl\"\n",
    "measurements = load_pickle(path, file)"
   ]
  },
  {
   "cell_type": "code",
   "execution_count": null,
   "id": "0dc2218f-07b3-4444-b571-27251420cdd3",
   "metadata": {},
   "outputs": [],
   "source": []
  },
  {
   "cell_type": "code",
   "execution_count": 4,
   "id": "bcbcfe95-d32c-470c-b723-596447db9570",
   "metadata": {},
   "outputs": [
    {
     "data": {
      "text/html": [
       "<div>\n",
       "<style scoped>\n",
       "    .dataframe tbody tr th:only-of-type {\n",
       "        vertical-align: middle;\n",
       "    }\n",
       "\n",
       "    .dataframe tbody tr th {\n",
       "        vertical-align: top;\n",
       "    }\n",
       "\n",
       "    .dataframe thead th {\n",
       "        text-align: right;\n",
       "    }\n",
       "</style>\n",
       "<table border=\"1\" class=\"dataframe\">\n",
       "  <thead>\n",
       "    <tr style=\"text-align: right;\">\n",
       "      <th></th>\n",
       "      <th>id</th>\n",
       "      <th>document</th>\n",
       "      <th>summary</th>\n",
       "    </tr>\n",
       "  </thead>\n",
       "  <tbody>\n",
       "    <tr>\n",
       "      <th>0</th>\n",
       "      <td>13862473</td>\n",
       "      <td>Fiona: What are you doing next weekend?\\nYasmi...</td>\n",
       "      <td>Yasmine's friend is coming from New Zealand on...</td>\n",
       "    </tr>\n",
       "    <tr>\n",
       "      <th>1</th>\n",
       "      <td>13612148</td>\n",
       "      <td>Helen: What's on the menu today in the cafeter...</td>\n",
       "      <td>Helen prefers to order a pizza rather than eat...</td>\n",
       "    </tr>\n",
       "    <tr>\n",
       "      <th>2</th>\n",
       "      <td>13820476</td>\n",
       "      <td>Ali: Should we buy something for Alice?\\r\\nJul...</td>\n",
       "      <td>Ali, Marcus and Julia are going to buy Alice a...</td>\n",
       "    </tr>\n",
       "    <tr>\n",
       "      <th>3</th>\n",
       "      <td>13810188</td>\n",
       "      <td>Raiola: :Good evening. I have just sent some c...</td>\n",
       "      <td>Raiola sent 7000 SH to a wrong account, but wi...</td>\n",
       "    </tr>\n",
       "    <tr>\n",
       "      <th>4</th>\n",
       "      <td>13730336</td>\n",
       "      <td>Henry: Have you got plans for the New Year's e...</td>\n",
       "      <td>Dona will come with Henry to his friends' hous...</td>\n",
       "    </tr>\n",
       "  </tbody>\n",
       "</table>\n",
       "</div>"
      ],
      "text/plain": [
       "         id                                           document  \\\n",
       "0  13862473  Fiona: What are you doing next weekend?\\nYasmi...   \n",
       "1  13612148  Helen: What's on the menu today in the cafeter...   \n",
       "2  13820476  Ali: Should we buy something for Alice?\\r\\nJul...   \n",
       "3  13810188  Raiola: :Good evening. I have just sent some c...   \n",
       "4  13730336  Henry: Have you got plans for the New Year's e...   \n",
       "\n",
       "                                             summary  \n",
       "0  Yasmine's friend is coming from New Zealand on...  \n",
       "1  Helen prefers to order a pizza rather than eat...  \n",
       "2  Ali, Marcus and Julia are going to buy Alice a...  \n",
       "3  Raiola sent 7000 SH to a wrong account, but wi...  \n",
       "4  Dona will come with Henry to his friends' hous...  "
      ]
     },
     "execution_count": 4,
     "metadata": {},
     "output_type": "execute_result"
    }
   ],
   "source": [
    "initial_dialogue_df = pd.read_csv('Data/initial_datasets/dialogue/full_data.csv')\n",
    "initial_dialogue_df.head(5)"
   ]
  },
  {
   "cell_type": "code",
   "execution_count": 6,
   "id": "e5253118-0aed-4800-bfb4-4028e79dffb5",
   "metadata": {},
   "outputs": [
    {
     "data": {
      "text/html": [
       "<div>\n",
       "<style scoped>\n",
       "    .dataframe tbody tr th:only-of-type {\n",
       "        vertical-align: middle;\n",
       "    }\n",
       "\n",
       "    .dataframe tbody tr th {\n",
       "        vertical-align: top;\n",
       "    }\n",
       "\n",
       "    .dataframe thead th {\n",
       "        text-align: right;\n",
       "    }\n",
       "</style>\n",
       "<table border=\"1\" class=\"dataframe\">\n",
       "  <thead>\n",
       "    <tr style=\"text-align: right;\">\n",
       "      <th></th>\n",
       "      <th>id</th>\n",
       "      <th>document</th>\n",
       "      <th>summary</th>\n",
       "    </tr>\n",
       "  </thead>\n",
       "  <tbody>\n",
       "    <tr>\n",
       "      <th>200</th>\n",
       "      <td>13813183</td>\n",
       "      <td>Fabienne: Has my parcel arrived?\\r\\nNathan: I ...</td>\n",
       "      <td>Fabienne is waiting for his comics to be deliv...</td>\n",
       "    </tr>\n",
       "  </tbody>\n",
       "</table>\n",
       "</div>"
      ],
      "text/plain": [
       "           id                                           document  \\\n",
       "200  13813183  Fabienne: Has my parcel arrived?\\r\\nNathan: I ...   \n",
       "\n",
       "                                               summary  \n",
       "200  Fabienne is waiting for his comics to be deliv...  "
      ]
     },
     "execution_count": 6,
     "metadata": {},
     "output_type": "execute_result"
    }
   ],
   "source": [
    "initial_dialogue_df[initial_dialogue_df['id'] == '13813183']"
   ]
  },
  {
   "cell_type": "code",
   "execution_count": null,
   "id": "9403acee-e8d2-4cfa-b332-2d01fea75439",
   "metadata": {},
   "outputs": [],
   "source": []
  }
 ],
 "metadata": {
  "kernelspec": {
   "display_name": "Python 3 (ipykernel)",
   "language": "python",
   "name": "python3"
  },
  "language_info": {
   "codemirror_mode": {
    "name": "ipython",
    "version": 3
   },
   "file_extension": ".py",
   "mimetype": "text/x-python",
   "name": "python",
   "nbconvert_exporter": "python",
   "pygments_lexer": "ipython3",
   "version": "3.10.12"
  }
 },
 "nbformat": 4,
 "nbformat_minor": 5
}
