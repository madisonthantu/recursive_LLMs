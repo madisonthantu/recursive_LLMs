{
 "cells": [
  {
   "cell_type": "code",
   "execution_count": 44,
   "metadata": {},
   "outputs": [],
   "source": [
    "import pickle\n",
    "import pandas as pd\n",
    "import numpy as np\n",
    "import os\n",
    "import re"
   ]
  },
  {
   "cell_type": "code",
   "execution_count": 35,
   "metadata": {},
   "outputs": [
    {
     "name": "stdout",
     "output_type": "stream",
     "text": [
      "macOS-14.1-arm64-arm-64bit\n",
      "https://api-inference.huggingface.co/models/s-nlp/roberta-base-formality-ranker\n",
      "macOS-14.1-arm64-arm-64bit\n"
     ]
    }
   ],
   "source": [
    "import sys \n",
    "import os\n",
    "sys.path.append(os.path.abspath(\"src/Measurement\"))\n",
    "import globals\n",
    "from src.Measurement.measurement import Measurement\n",
    "globals.init()\n",
    "print(globals.API_URL)\n",
    "\n",
    "import os\n",
    "import sys\n",
    "import argparse\n",
    "from tqdm import tqdm\n",
    "import pickle\n",
    "import pandas as pd\n",
    "import numpy as np\n",
    "\n",
    "\n",
    "from datasets import concatenate_datasets, load_dataset, DatasetDict, Dataset\n",
    "from transformers import DataCollatorForSeq2Seq\n",
    "from transformers import AutoModelForSeq2SeqLM, Seq2SeqTrainingArguments, Seq2SeqTrainer\n",
    "import torch\n",
    "import platform\n",
    "import evaluate\n",
    "from transformers import AutoTokenizer, BartForConditionalGeneration, GPT2Model, T5ForConditionalGeneration, GPT2LMHeadModel\n",
    "print(platform.platform())\n",
    "from transformers import pipeline\n",
    "\n",
    "\n",
    "from huggingface_hub import login"
   ]
  },
  {
   "cell_type": "code",
   "execution_count": 25,
   "metadata": {},
   "outputs": [],
   "source": [
    "def load_pickle(file_path, file_name):\n",
    "    with open(os.path.join(file_path , file_name), 'rb') as f:\n",
    "        return pickle.load(f)"
   ]
  },
  {
   "cell_type": "code",
   "execution_count": 56,
   "metadata": {},
   "outputs": [],
   "source": [
    "rootdir = './test'\n",
    "\n",
    "subdirs = ['t5/dialogue', 'bart/news']\n",
    "generations = ['generation0', 'generation1', 'generation2', 'generation']\n",
    "\n",
    "results = {}\n",
    "\n",
    "for subdir in subdirs:\n",
    "    for gen in generations:\n",
    "        path = os.path.join(rootdir, subdir, gen, 'results')\n",
    "        results[subdir + '/' + gen] = {\n",
    "            'config': load_pickle(path, 'config.pkl'),\n",
    "            'measurements': load_pickle(path, 'measurements.pkl'),\n",
    "            'test_eval_results': load_pickle(path, 'test_data_eval_results.pkl'),\n",
    "        }"
   ]
  },
  {
   "cell_type": "code",
   "execution_count": 59,
   "metadata": {},
   "outputs": [
    {
     "data": {
      "text/plain": [
       "['t5/dialogue/generation0',\n",
       " 't5/dialogue/generation1',\n",
       " 't5/dialogue/generation2',\n",
       " 'bart/news/generation0',\n",
       " 'bart/news/generation1',\n",
       " 'bart/news/generation2']"
      ]
     },
     "execution_count": 59,
     "metadata": {},
     "output_type": "execute_result"
    }
   ],
   "source": [
    "keys = list(results.keys())\n",
    "keys"
   ]
  },
  {
   "cell_type": "code",
   "execution_count": 61,
   "metadata": {},
   "outputs": [
    {
     "data": {
      "text/plain": [
       "\"Amanda: I baked cookies. Do you want some? Jerry: I'll bring you tomorrow:-) Amanda: i've baked cookies .\""
      ]
     },
     "execution_count": 61,
     "metadata": {},
     "output_type": "execute_result"
    }
   ],
   "source": [
    "results[keys[2]]['measurements']['samples'][0]"
   ]
  },
  {
   "cell_type": "code",
   "execution_count": 37,
   "metadata": {},
   "outputs": [
    {
     "data": {
      "text/plain": [
       "Dataset({\n",
       "    features: ['id', 'document', 'summary'],\n",
       "    num_rows: 16369\n",
       "})"
      ]
     },
     "execution_count": 37,
     "metadata": {},
     "output_type": "execute_result"
    }
   ],
   "source": [
    "def load_huggingface_dataset(data_config):\n",
    "    data_dict = load_dataset(*data_config)\n",
    "    dataset = concatenate_datasets([data_dict[k] for k in data_dict.keys()])\n",
    "    # print(dataset.column_names)\n",
    "    for col in dataset.column_names:\n",
    "        if col in globals.new_col_names.keys():\n",
    "            dataset = dataset.rename_column(col, globals.new_col_names[col])\n",
    "    #         print(col, globals.new_col_names[col])\n",
    "    # print(dataset.column_names)\n",
    "    if args['dataset'] == 'reddit':\n",
    "        return dataset.select_columns(['document', 'summary'])\n",
    "    else:\n",
    "       return dataset.select_columns(['id', 'document', 'summary'])\n",
    "   \n",
    "\n",
    "args = {\n",
    "    'dataset': 'dialogue'\n",
    "}\n",
    "dialogue_dataset = load_huggingface_dataset(['samsum'])\n",
    "dialogue_dataset"
   ]
  },
  {
   "cell_type": "code",
   "execution_count": 46,
   "metadata": {},
   "outputs": [],
   "source": [
    "x = dialogue_dataset.filter(lambda x: re.search('Amanda', x['document']))"
   ]
  },
  {
   "cell_type": "code",
   "execution_count": 49,
   "metadata": {},
   "outputs": [
    {
     "data": {
      "text/plain": [
       "[\"Amanda: I baked  cookies. Do you want some?\\r\\nJerry: Sure!\\r\\nAmanda: I'll bring you tomorrow :-)\",\n",
       " \"Tom: hi guys, we're thinking about renting a car for a few days\\r\\nTom: and have a small trip somewhere over the weekend\\r\\nTom: wanna participate?\\r\\nJerry: It's super cheap now, like 30€ for 5 days\\r\\nAmanda: that's really nothing\\r\\nAmanda: when do you want to do this?\\r\\nAlexis: I'd be interested for sure\\r\\nTom: we thought about the first weekend of January\\r\\nAlexis: for me it's perfect, no plans here really\\r\\nAmanda: I'd like to join as well\\r\\nAmanda: any ideas where we want to go?\\r\\nTom: we thought about some thermal baths\\r\\nAmanda: wow, how exciting\\r\\nAmanda: let's do it!\",\n",
       " 'Amanda: How is the journey going?\\r\\nRebeca: Amazing, I needed it so much\\r\\nThomas: Yes, Rebeca is ecstatic about everything here hahahah\\r\\nRebeca: true, I like food, people, sun, sea, a paradise\\r\\nAmanda: so envious!\\r\\nAmanda: Where are you right now?\\r\\nRebecca: Bangkok \\r\\nAmanda: one of the most fascinating cities in the world I think\\r\\nRebecca: I agree!',\n",
       " 'Amanda: Does anyone know when the biology test is?\\r\\nCeline: Mrs Kohl said it would be next Tuesday.\\r\\nRobert: That\\'s right. \\r\\nAmanda: Cool, so we still have a week.\\r\\nRobert: Yes, but there is a lot to study. \\r\\nNick: You should guys relax. I\\'ll study one day before. \\r\\nAmanda: Nick always studies one day before and gets an \"A\". How does he do it?\\r\\nRobert: He\\'s a genius. Not like us... ',\n",
       " \"Emily: hey how are you? better?\\nEmily: I called you last night, just to ask\\nOlivia: hi, sorry I fell asleep like before 8pm\\nOlivia: I think I'm getting better but still a bit weak\\nEmily: well that's understandable\\nEmily: you didn't work this week did you?\\nOlivia: er... just a little\\nEmily: why???\\nOlivia: actually I only replied some emails and postponed all my meetings\\nEmily: you should sleep as much as you can\\nOlivia: I've just slept 14 hours xD\\nEmily: are you seeing your doctor again?\\nOlivia: yes on Friday\\nOlivia: are you at the office now?\\nEmily: yes with our dear Amanda\\nOlivia: how are you doing without me? ;)\\nEmily: me - perfect\\nEmily: Amanda has to work so she's unhappy :]\\nOlivia: poor girl...\\nOlivia: why don't you do all the job for her?\\nEmily: I don't know... I'm a baaad person\\nOlivia: did I tell you she called me on Monday?\\nEmily: no. what did she want\\nOlivia: she wanted me to email Shepperd and answer his questions about HER offer\\nEmily: what?! is she insane???\\nEmily: ok I know she is but... what?!\\nOlivia: told you...\\nEmily: I'll ask her now to call Hoffmann lol\\nOlivia: please do hahahaha\",\n",
       " \"Amanda: do you have tickets for Metallica concert?\\nMegan: Good evening! I will check, please give me few minutes\\nMegan: Thank you for waiting! Yes, tickets still available.\\nAmanda: cool! I'd like to get 4 tickets then\\nMegan: Of course, I will book 4 tickets for you. Payment can be done through our website according to the instruction in the file I am sending you right now\\nMegan: <file_photo>\\nMegan: Just to remind, you have 24 hours to pay, after that period of time your booked tickets will not be available and you will have to book them again\\nAmanda: I will do it right away, thank you!\\nMegan: Thank you, have a nice day!\",\n",
       " \"Amanda: Are you going to Philadelphia this weekend?\\r\\nJoan: I will drive there Saturday morning\\r\\nLinda: I'm staying home\\r\\nAmanda: Could I go with you?\\r\\nJoan: sure! that would be nice\\r\\nAmanda: what time are you planning to leave?\\r\\nAmanda: I have to bring Charlie to his grandmother first\\r\\nJoan: so about 10AM?\\r\\nAmanda: sounds perfect\\r\\nJoan: but let me know how it's going, I'm not in hurry so I can wait\\r\\nAmanda: thanks:)\\r\\nAmanda: I'll try to be at your place by 9.45\\r\\nAmanda: would be good to arrive in the city before lunch\\r\\nJoan: don't worry, it's 1,5h max\\r\\nAmanda: ok\",\n",
       " \"Amanda: We were at a Christmas Market today. Toby loved it! <file_photo> \\r\\nFlora: Aww, what a cutie!\\r\\nElena: Did you guys meet Santa?\\r\\nAmanda: Yes, but it didn't go very well. Toby was scared of him :D <file_photo> \\r\\nFlora: Haha, he looks as if Santa was trying to murder him!\\r\\nElena: Daddy looks happy though!\\r\\nAmanda: LOL, yes, daddy had a lot of fun today. I'm not sure which one of my boys is happier now :D\\r\\nElena: I bet you're as tired as they're happy ;)\\r\\nAmanda: I'm exhausted! But it was worth it, you know?\\r\\nFlora: Did you buy something nice?\\r\\nAmanda: Lots of sweets and some Christmas decorations.\\r\\nFlora: Cool!\\r\\nAmanda: And they had this cool castle with artificial snow falling down all the time. Look! <file_video>\\r\\nElena: Wow, it's really beautiful. \\r\\nFlora: Looks kind of like the ice castle from “Frozen”.\\r\\nAmanda: Yeah, I thought about it too when I saw it!\",\n",
       " \"Henry: Amanda I saw you yesterday on the bus stop. Great colour!!\\nAmanda: Thanks! It was an experiment\\nTom: I agree. You look great. It was a good choice! \\nAmanda: Thank you. You're so sweet :* \",\n",
       " 'David: <file_photo>\\r\\nDavid: hey, look whom I met :D\\r\\nMollie: is this Amanda \"Mandy\" Bower?\\r\\nDavid: exactly!\\r\\nMollie: what happened to her face?\\r\\nDavid: a few plastic surgeries I believe XD\\r\\nMollie: unbelievable, she was so pretty in high school!\\r\\nDavid: I know she was…\\r\\nDavid: She caught a really rich husband who liked improvements :/\\r\\nMollie: poor her!\\r\\nDavid: <file_gif>',\n",
       " \"Peter: What do you think about the new Spanish teacher?\\r\\nAmanda: Ms Suarezzzzzzzzz? :D\\r\\nAndy: She's cool!\\r\\nHelen: She's hot! That's for sure.\\r\\nHannah: I like her voice.\\r\\nOlivier: I cannot really focus on what she's saying :D\\r\\nHelen: hahahaha\\r\\nAndy: I think she's a good teacher. She's trying her best.\\r\\nAmanda: I loved this game she made us play.\\r\\nAndy: Yeah, she's really creative.\\r\\nAmanda: If all the teachers were like her.\\r\\nHannah: BTW did she give us any homework?\\r\\nAmanda: We need to write something \\r\\nAndy: We should describe our best friend.\\r\\nOlivier: I don't have a best friend :-(\\r\\nAndy: You can describe me ;-)\\r\\nOlivier: You wouldn't want that :D\\r\\nAndy: hahahha\\r\\nAmanda: Then describe Ms Suarez ;-)\",\n",
       " \"Jane: u wanna go here tonight? <file_other>\\r\\nAmanda: No way!\\r\\nAmanda: I'm too tired after the gym\\r\\nJane: but u were there yesterday not today, right?\\r\\nAmanda: yes, but I'm still destroyed :/\\r\\nAmanda: and I need to wake up early 2morrow...\\r\\nAmanda: Ask Natalie, I'm think she wanted to go out, tonight\\r\\nJane: ok, thx! \\r\\nJane: enjoy yr bed then\\r\\nAmanda: thx, have fun! \",\n",
       " \"Kit: Back. Sry.\\r\\nAmanda: NVM! Gossip! Now!\\r\\nKit: Fine ;) ur needy ;)\\r\\nGale: Kit! Pls!\\r\\nKit: You know Jake, the freshman?\\r\\nAmanda: Which one is it?\\r\\nGale: Tall, broad shoulders, nice lips, deep, blue eyes, veeery handsome\\r\\nAmanda: Oh! That one! Half the school is in luv with him!\\r\\nKit: Ik! And have gossip about him! A little bird told me he's got a sweetheart ;)\",\n",
       " \"Amanda: Why don't you ever wear make-up?\\r\\nFreya: I don't need it\\r\\nAmanda: You could look prettier\\r\\nFreya: I don't like the idea of having some foundation entering my pores\\r\\nFreya: I don't even have make-up products\\r\\nAmanda: Not even a mascara?\\r\\nFreya: Nope.\",\n",
       " \"John: Have you landed?\\r\\nAmanda: Yes, we arrived yesterday! I think you misunderstood when we were supposed to arrive\\r\\nJohn: it's possible\\r\\nJohn: where are you staying?\\r\\nSally: we're in Bridgetown\\r\\nRidge: why?! I thought you wanted some calm, remote place\\r\\nSally: yes, but I made a mistake when booking, so we can stay here or move somewhere else, we're not sure yet\\r\\nSally: and you? where are you?\\r\\nAmanda: the place is called Apple Hall, it's South-East, so the other side of the island\\r\\nSally: I see. Any plans for tomorrow?\\r\\nJohn: we're planning to go to Bottom Bay, it's very close to our place and extremely beautiful\\r\\nSally: is it a beach?\\r\\nJohn: yes, it's magical, the only downside is the strong currents\\r\\nSally: ok, we just want to lay on a beach, so we may join you\\r\\nAmanda: just great!\",\n",
       " \"Amanda: Hey, got plans for tonight?\\r\\nLinda: Not really. Y?\\r\\nAmanda: Jane stood me up and we were supposed to go to the cinema together.\\r\\nLinda: Say no more. When and where?\\r\\nAmanda: <file_other> That's the location and we were supposed to meet at 8.\\r\\nLinda: I'll be there. \",\n",
       " \"Vincent: did you know jake a beard?\\r\\nAmanda: HAHAHAHAHA\\r\\nAmanda: did he really?\\r\\nAmanda: he must look UGLY as HELL :D lol\\r\\nVincent: i'd knew you react that way\\r\\nVincent: but maria said jake looked hot\\r\\nAmanda: ewww don't say hot and jake \\r\\nVincent: jake hot jake hot jake hot :-P\\r\\nAmanda: lol stop it hahahha\\r\\nVincent: you've never liked him\\r\\nVincent: why?\\r\\nAmanda: he was kind of an a-hole when we met \\r\\nAmanda: so now he better not mess with me\\r\\nAmanda: (ง'̀-'́)ง\\r\\nAmanda: or he'll get in trouble lol\",\n",
       " \"Toby: he sis, how's college?\\r\\nAmanda: it's amazing i'm having a lot of fun\\r\\nAmanda: how's everything at home??\\r\\nToby: same old same old\\r\\nToby: dad made me clean the garage\\r\\nToby: wish you were here to help me \\r\\nAmanda: hahahaha so happy i don't have to\\r\\nToby: anyway i was cleaning up and found some cool stuff\\r\\nToby: stuff that i hadn't seen in years!!!\\r\\nAmanda: really? like what?\\r\\nToby: your barbie dollhouse, there's like 20 barbies in there\\r\\nToby: none of them have heads though lol\\r\\nAmanda: hahaha you throw them away\\r\\nToby: there's also a very rusty pink bike that i'm sure was yours\\r\\nAmanda: i remember that bike!!!\\r\\nAmanda: you can donate it to charity :-D\\r\\nToby: i also found some paintings you made as a child\\r\\nToby: they're hideous!!!! lol\\r\\nToby: there's one of a couple of swans in the water\\r\\nToby: there's a very scare one of a clown :-/\\r\\nToby: almost disturbing actually lol\\r\\nAmanda: DON'T THROW THOSE AWAY!!!!\\r\\nAmanda: THEY HAVE HUGE SENTIMENAL VALUE!!!!!\\r\\nToby: ok i'll make sure we keep them\\r\\nToby: i'll take good care of them for you\\r\\nAmanda: thanks toby!!!!\\r\\nAmanda: gotta go i have lacrosse practice\\r\\nToby: have fun\\r\\nToby: miss you\\r\\nAmanda: miss u 2\",\n",
       " \"Dorothy: I'm looking for a baby sitter. \\r\\nDorothy: Can you recommend someone? \\r\\nAmanda: I have an anti-recommendation \\r\\nAmanda: Had such a bad experience I'll never leave my kid with a someone again\\r\\nGreta: What happened? 😱\\r\\nGreta: I can recommend my cousin. \\r\\nGreta: She's helping me with Mike \\r\\nGreta: But I have no idea how much she would charge\\r\\nGreta: She's a student so probably not much \\r\\nDorothy: Amanda but what happened??\\r\\nAmanda: Once I came back home earlier and she was fucking with a guy on my couch. My Tom was on the floor crying. \\r\\nDorothy: That's horrible! ☹️🙁😠😡😞😟😣😖\\r\\nDorothy: Who was she??\\r\\nAmanda: Someone recommended... 😡\",\n",
       " \"Adam: So, who's coming?\\r\\nMike: Apart from u and me?\\r\\nAdam: Yup.\\r\\nMike: Ken, it was his idea, and his girlfriend. Oh and Josh and Chris.\\r\\nAdam: They're all great company! Except for Amanda.\\r\\nMike: Yeah, I don't like her much either. \",\n",
       " 'Amanda: I bought a dress\\r\\nAmanda: <photo_file>\\r\\nLeticia: Hmmm…\\r\\nLeticia: Are you sure you want to keep it?\\r\\nAmanda: Why?\\r\\nLeticia: It doesn’t look great on you\\r\\nLeticia: These dresses are not for your body type\\r\\nLeticia: I know they look great on models\\r\\nLeticia: But a pear-shaped woman like you looks just chubby in a dress like that\\r\\nLeticia: I’m not saying you’re fat\\r\\nLeticia: You’re not\\r\\nLeticia: You have a very feminine figure\\r\\nLeticia: I wish I had your curves\\r\\nLeticia: But this dress doesn’t flatter you\\r\\nAmanda: Ok. I will return it ☹',\n",
       " 'Donna: Keep calm and race for life! Proud of us all! Xxx\\r\\nAmanda: Same time next year? ;)\\r\\nDonna: Can’t wait! ;)\\r\\nEmma: This is fab! \\r\\nThomas: Well done girls!!\\r\\nJohn: Amazing!\\r\\nAmanda: Any donations big or small are truly appreciated! :)\\r\\nDonna: and come along and cheer us on next time!\\r\\nEmma: i’ll join u next year! xxx',\n",
       " \"Jerry: Can someone lent me a bike?\\r\\nJerry: My cousin is coming for the weekend, I'd like to go for a bike trip around the town.\\r\\nAmanda: You can borrow mine, I don't need it during the weekend.\\r\\nCharlotte: I have a spare one that I don't use.\\r\\nJerry: Thanks girls!\\r\\nCharlotte: You may need to pump the tires though\\r\\nCharlotte: I haven't used it in a while\\r\\nJerry: Maybe I'll take Amanda's bike ;-)\",\n",
       " \"John: Are you at home? I might swing by and grab that bag if you're there!\\r\\nAmanda: Sorry, I'm not. Not sure when I'll be back, it's football day ;-)\\r\\nJohn: Haha, no probs\",\n",
       " \"Amanda: Hi! I'm going on a date! I need some advice and support.\\r\\nPam: Yeah, sure.\\r\\nAmanda: You know i'm shy right?!\\r\\nPam: oh, so just talk about normal stuff a book that you're reading, your last weekend, your interests etc\\r\\nAmanda: so what do i do when i'm stuck and have no more ideas?\\r\\nPam: listen to TED talks so you'll have something interesting to show off \\r\\nAmanda: yeah, it could inspire a great conversation\\r\\nPam: yeah, totally!\\r\\nAmanda: so what if he asks me if i go out with him again? i don't wanna sound desperate!\\r\\nPam: just be cool! tell him to give you a ring cause you're not sure about your plans  \\r\\nAmanda: yeah, ok\\r\\nPam: you'll be fine! trust me! \",\n",
       " 'Jeff: Anybody knows a nice place to have a drink?\\nTeresa: you can go to \"the coal\"\\nMolly: it\\'s ok, but expensive\\nTeresa: true\\nAmanda: but this is how it is in this city\\nToby: so maybe cockroach?\\nJeff: ok, let\\'s go there?\\nAmanda: amazing name for a bar',\n",
       " \"Patrick: Let's go to Cap Haitien for the weekend!\\nAmanda: We don't have a car.\\nPearl: There is a bus. \",\n",
       " 'Mary: Kate, Amanda, I’m in real trouble…\\r\\nKate: What happened?\\r\\nAmanda: ?\\r\\nMary: Tell us, maybe we can help you\\r\\nMary: I’m sorry, but I need your help. I haven’t been able to pay my bills for the last three months and if I don’t pay quickly, I won’t have gas and electricity\\r\\nAmanda: I’m so sorry. Of course, we will help you!\\r\\nKate: How much is it?\\r\\nMary: 2000 $\\r\\nAmanda: No big deal! I’ll transfer the money immediately\\r\\nMary: Thank you, Amanda…\\r\\nAmanda: No problem, dear\\r\\nMary: I need to explain the whole situation\\r\\nMary: I haven’t told you the whole truth about my work. I was dismissed about two months ago\\r\\nMary: My boss told me that he needs someone who speaks English and Spanish. As you know, I don’t speak Spanish\\r\\nKate: I’m so sorry, Mary\\r\\nKate: You know, my company is looking for professionals like you. Maybe I could be of help\\r\\nMary: I appreciate it very much, Kate\\r\\nKate: Send me your CV, please\\r\\nMary: No problem\\r\\nMary: <file_other>',\n",
       " \"Amanda: Kev r u there?\\r\\nAmanda: Kevin?\\r\\nKevin: Yeah, I'm busy but what's up?\\r\\nAmanda: My battery is almost dead, can you call my mum and tell her I'm on my way?\\r\\nKevin: Sure thing! Why didn't you take this power bank I bought you?\\r\\nAmanda: I left it at Johnny's place on Friday :/\",\n",
       " \"Hector: Great. Now all those we put in jail for weed possession...time to let them out.\\r\\nAimee: Hector our new governor in Michigan is considering pardons for weed offenses.\\r\\nDan: To be clear, though three marijuana initiatives were on the ballot in Missouri, they were competing against each other. We chose the best one and pushed hard for that one to win, and the other two to fail.\\r\\nDan:  This is Virginia. We will be the 52nd state to legalize weed. Commowealth. But were now into the 20th centurh. \\r\\nAimee: Only one behind.\\r\\nGilbert: Moreno I'm so thankful that I love in Washington state. \\r\\nGilbert: Not just because of legal cannabis, but for being Democratic !\\r\\nHector: Me too!\\r\\nAmanda: Arkansas legalized medical 2 years ago, but there are no dispensaries & no way to get a card. 😡\\r\\nRob: Grow your own!\\r\\nAmanda: Thinking of it!\\r\\nRob: Want to know how to start? I can teach you :)\\r\\nAmanda: Sure!\",\n",
       " \"Margaret: Who else will join us tonight?\\r\\nNancy: me, I'll be there in 5min\\r\\nLisa: Me too, with George and Amanda\\r\\nGeorge: 👍\\r\\nWilliam: me too!\\r\\nMargaret: great!\",\n",
       " \"Amanda: My cousin is getting married next month\\r\\nJosephine: Cool. Good for her.\\r\\nJosephine: How long have they been together?\\r\\nAmanda: A year.\\r\\nJosephine: That's fast. How did they meet?\\r\\nAmanda: Through a dating app.\\r\\nJosephine: Have you met him already?\\r\\nAmanda: Actually, it's a woman. \\r\\nJosephine: Sweet.\\r\\nJosephine: And your family is coming to the wedding?\\r\\nJosephine: Mine wouldn't if I married a woman :-(\\r\\nAmanda: They're all coming. \\r\\nAmanda: In my family it's not an issue.\\r\\nAmanda: Not the first gay couple anyway\\r\\nAmanda: Do you remember Patrick?\\r\\nAmanda: You met him last summer\\r\\nJosephine: Your brother?\\r\\nAmanda: Yes. He got married a few months ago.\\r\\nAmanda: Now he's living with his husband in Boston.\\r\\nJosephine: Great! \",\n",
       " \"Amanda: Hi, could you PLEASE PLEASE PLEASE lend me your biology notes?\\r\\nJoe: Sure, from when?\\r\\nAmanda: I was sick the whole last week. Thank you, you're an angel\\r\\nJoe: I can send it to you via e-mail, I have them on my computer\\r\\nAmanda: That's great, thanks!!! \\r\\nJoe: No problem :)\\r\\nAmanda: Do you know when the test is going to be?\\r\\nJoe: In two weeks. You'll catch up :)\",\n",
       " \"Amanda: I have lost my swimming costume!!!!\\r\\nJoiner: oh no!!!!!\\r\\nAmanda: I had it last week and now it's disappeared!\\r\\nJoiner: Have you got an old one?\\r\\nAmanda: maybe...let me look\\r\\nJoiner: If you can't find one we will have to go for a walk instead.\\r\\nAmanda: Ok, see you soon!!!\",\n",
       " \"Amanda: <file_video>\\r\\nAmanda: I cried yesterday when I saw this film.\\r\\nPiper: I'll watch it after this lecture, but thanks!\\r\\nPiper: I see it's about a dog!\\r\\nPiper: *.*\\r\\nAmanda: Yup, but it's quite a sad film.\\r\\nAmanda: This dog is waiting for his owner.\\r\\nPiper: Oh, noo... Poor thing. :(\\r\\nAmanda: Okay, Pipes. I've gotta go  to the gym now.\\r\\nPiper: Have fun! :*\\r\\nAmanda: Thanks! Bye! :)\",\n",
       " \"Amanda: We were at a Christmas Market today. Toby loved it! <file_photo> \\r\\nFlora: Aww, what a cutie!\\r\\nElena: Did you guys meet Santa?\\r\\nAmanda: Yes, but it didn't go very well. Toby was scared of him :D <file_photo> \\r\\nFlora: Haha, he looks as if Santa was trying to murder him!\\r\\nElena: Daddy looks happy though!\\r\\nAmanda: LOL, yes, daddy had a lot of fun today. I'm not sure which one of my boys is happier now :D\\r\\nElena: I bet you're as tired as they're happy ;)\\r\\nAmanda: I'm exhausted! But it was worth it, you know?\\r\\nFlora: Did you buy something nice?\\r\\nAmanda: Lots of sweets and some Christmas decorations.\\r\\nFlora: Cool!\\r\\nAmanda: And they had this cool castle with artificial snow falling down all the time. Look! <file_video>\\r\\nElena: Wow, it's really beautiful. \\r\\nFlora: Looks kind of like the ice castle from “Frozen”.\\r\\nAmanda: Yeah, I thought about it too when I saw it!\",\n",
       " \"Amanda: Have you seen what happened to Daria?\\r\\nHarry: Yeah, that's insane!\\r\\nJane: What? I don't know about anything!\\r\\nAmanda: She was kicked out from the PhD programme\\r\\nJane: What did she do? Plagiarism? \\r\\nHarry: She was sexually harassing David\\r\\nJane: Really???\\r\\nJane: I always found her strange but didn't know she could do that\\r\\nAmanda: She posted on FB she was kicked out \\r\\nAmanda: And that she was diagnosed with affective bipolar disorder\\r\\nAmanda: Now she will have to pay the grant back\\r\\nAmanda: It's like 30.000 euros!\\r\\nJane: Not fun at all!\",\n",
       " 'Christopher: Good evening\\r\\nAmanda: Good evening\\r\\nChristopher: On behalf of our Committee, I would like to invite you to participate in the 14th Congress of Internal Medicine, which will be held at Barkley Street on 14th of December 2018\\r\\nAmanda: Thank you very much for the invitation, but, unfortunately, I will be unavailable at that time.\\r\\nChristopher: Thank you for a quick response. I would be much obliged if you could tell your husband about the Congress. I believe that it could be in the area of his interests.',\n",
       " \"Chris: Hey sweetheart, have you taken a brolly today? It's going to rain...\\r\\nSally: Nope, but I'll manage without it. Amanda's going to give me a lift home :)\\r\\nChris: Good. I've got a choccy biccy for you :)\\r\\nSally: dardy!!\\r\\nChris: When can I expect you home?\\r\\nSally: 4 p. m. I guess\\r\\nChris: Ok\\r\\nChris: <3\\r\\nSally: <3\",\n",
       " \"Gale: How did you find out about it?\\r\\nAmanda: NVM! Who is she?!\\r\\nKit: Amanda! Didn't know u were into him ;)\\r\\nAmanda: I'm not! Just jealous!\\r\\nKit: Well, turns out he's going out with Ms Johnson!\\r\\nGale: U 4 real?\\r\\nAmanda: Not true! Can't be!\\r\\nKit: Little bird saw them in the park yesterday!\\r\\nGale: So what? Could've met by chance.\\r\\nKit: Hugging? ;)\\r\\nAmanda: Yeah, he probably tripped and she was helping him up.\\r\\nGale: If that's what you want to believe\",\n",
       " \"Amanda: Have you seen the last episode of Anne with an E?\\r\\nLizzy: It was awesome! I liked the acting very much. \\r\\nAmanda: It’s a bit different from the first series of Anne of Green Gables from the ‘80s don’t you think?\\r\\nLizzy: Yes, but I think that’s even better 😊\\r\\nAmanda: it's more about her relations with Marilla and Matthew and the whole community than to Gilbert\\r\\nAmanda: When will Netflix release the 3 series?\\r\\nLizzy: I guess that in 2019\",\n",
       " \"Nate: <file_other>\\r\\nAmanda: Uh, Nate? I'm not sure what to say\\r\\nNate: Shit, sorry, wanted to send that to Adam, I have no idea how this happened\\r\\nAmanda: Don't worry about it, haha. How are you?\\r\\nNate: Fine, thanks. U? (I'm really sorry, I still feel dumb)\\r\\nAmanda: I've just moved so things have been a bit hectic, but I'm fine. This new flat is really nice, I love it\\r\\nNate: Living on ur own at last?\\r\\nAmanda: Yeah! Once I've sorted everything out, I'd liek to throw a party so we can finally see each other again, all of us\\r\\nNate: Ohhh, that'd be nice, it's been waaay too long since I've seen the gang\\r\\nAmanda: Yeah, me too, adulthood can be kinda hard :/ I'll let you guys know when Im free!\\r\\nNate: Thx, I appreciate it!\",\n",
       " \"Lisa: Why aren't you at the office?\\nAmanda: I'm not coming today\\nAmanda: I feel sick\\nBrendon: I'm travelling this week\\nBrendon: Business meetings in Prague\\nLisa: Jason sent you?\\nBrendon: Yes\",\n",
       " \"Amanda: Hi, how are things going?\\r\\nTori: Not bad, I'm at work all the time, but it's fine\\r\\nBrenda: I'm good as well\\r\\nBrenda: are you writing the thesis, Amanda?\\r\\nAmanda: I am\\r\\nBrenda: so what subject you decided to write about?\\r\\nAmanda: happiness \\r\\nBrenda: wow, that's really interesting\\r\\nTori: but I thought it's rather a psychological topic\\r\\nAmanda: yes and no, it has many political consequences\\r\\nTori: right, everything is political :P\\r\\nAmanda: but in this case in an even more evident way\\r\\nAmanda: I want to focus on the happiness policy of Bhutan\\r\\nTori: that's fascinating, i read about it once\\r\\nBrenda: What is it about?\\r\\nAmanda: they call it Gross National Happiness and it has replaced GDP in Bhutan. They want to measure something more than only production, economic growth and money.\\r\\nAmanda: they try to live and develop the country in a more holistic way. At least it's the official claim\\r\\nAmanda: So I'll try to figure out how it functions\\r\\nBrenda: I think it's a great idea\\r\\nBrenda: and a pleasant, interesting work\\r\\nAmanda: yes, it's fascinating\",\n",
       " \"Amanda: i hate my boss so much\\r\\nWendy: i know\\r\\nWendy: what's this time?\\r\\nAmanda: he told me i fucked report\\r\\nAmanda: and the next day he brought corrected one\\r\\nAmanda: and nothing was changed\\r\\nWendy: dick!\",\n",
       " \"Amanda: I cannot access the train website\\r\\nAmanda: Wanted to buy a ticket\\r\\nJonathan: Let me see\\r\\nJonathan: It works\\r\\nJonathan: You just need to refresh it\\r\\nAmanda: I tried... It doesn't work\\r\\nJonathan: Let me finish frying first and I will help you\\r\\nAmanda: OK, thanks love\",\n",
       " \"Terry: Where are you?\\r\\nTony: at Amanda's of course\\r\\nTerry: already?\\r\\nDavid: the party started at 8PM\\r\\nTerry: was there anybody at 8PM?\\r\\nTony: almost everybody was here\",\n",
       " \"Lee: What is your fave tv show of all time?\\r\\nAmanda: Oh, man... can it be an old one?\\r\\nLee: Of all time, so yes, old or new!\\r\\nAmanda: I can't remember the name of it. It was a bumbling female spy who was just a housewife in real life. Shoot.\\r\\nLee: Doesn't sound familiar. Who was in it?\\r\\nAmanda: That really handsome guy who was in a sci-fi show later. I can't remember his name!\\r\\nLee: This is going nowhere!\\r\\nAmanda: I know! I think I'm going to have to pick another one, because I just can't think of it.\\r\\nLee: Tell me more.\\r\\nAmanda: Well, she was a single mom who lived with her two sons and mother. She accidentally became a spy. Hilarity ensued.\\r\\nLee: Nope. No idea.\\r\\nAmanda: Darn!\\r\\nLee: Any other choices?\\r\\nAmanda: Gilligan's Island is the only one I can think of, but I really wasn't a huge fan.\\r\\nLee: Okay...\\r\\nAmanda: How about The Brady Bunch!\\r\\nLee: All these old shows!\\r\\nAmanda: Roseanne?\\r\\nLee: It's fine, whatever you say!\",\n",
       " \"Amanda: You won’t fucking believe me!\\r\\nRuby: Haha what happened? Are you moving out?\\r\\nAmanda: Worse than that. Jack asked to me to go with him to the party next week. Can you believe it?\\r\\nRuby: Fuck, you must’ve been surprised 😉 After all those years…\\r\\nAmanda: Exactly, some time ago I’d be on the cloud nine, but now I don’t actually know what to do\\r\\nRuby: I can’t help you, Amanda. You’ve got to decide\\r\\nAmanda: You aren't helping me...\",\n",
       " \"Amanda: Hi there! How's the hotel?\\r\\nBen: Hey, sweetheart! Good. Pretty comfy. Thanks for the booking.\\r\\nAmanda: Pleased to please you :-)\\r\\nBen: I'll need your help with flights next month. It's going to be hectic.\\r\\nAmanda: No problem. That's my job. Send me your schedule in whatever form. Even a photo will do. And I'll handle everything.\\r\\nBen: Everything? Really?\\r\\nAmanda: I mean: the flights, transfers, hotels, taxis. Don't take advantage of me! Lunches, coffee and love letters to your wife are your thing. I'm not going to make them for you :-)\\r\\nBen: Especially the love letters :-)\\r\\nAmanda: Ok. So your best with the Japanese guys.\\r\\nBen: I will. Have a good day, sweetheart!\\r\\nAmanda: You too \",\n",
       " \"Adam: How about going to London this weekend?\\r\\nSarah: Sure.\\r\\nMartin: I can't. Sorry guys.\\r\\nSarah: Too much work?\\r\\nMartin: This time it's not about work...\\r\\nSarah: Is that about... what's her name...?\\r\\nMartin: Amanda. Yes, blame it on her :-)\\r\\nSarah: Well, well, well. Martin has a girlfriend now!\\r\\nAdam: Congrats bro! She can come to London with us ;-)\",\n",
       " 'Jane: Hey gang! Any book suggestions for our next meeting?\\r\\nAmanda: I suggest \"Snow\" by Orhan Pamuk\\r\\nLinda: Sounds good to me.\\r\\nJane: Any other suggestions?\\r\\nCandy: Anna Karenina\\r\\nAmanda: I\\'d prefer something I haven\\'t read yet.\\r\\nCandy: OK. Let\\'s read \"Snow\".',\n",
       " \"Amanda: When are they going to finish the redecoration?\\r\\nJohn: next month\\r\\nAlexis: Have you talked to them John?\\r\\nJohn: that's the contract we have\\r\\nAlexis: but it seems they are late with works, I can't imagine it will be ready in two weeks\\r\\nAmanda: exactly\\r\\nJohn: ok, I will talk to them\\r\\nJohn: but they know that any delay will cost them a lot\\r\\nAmanda: i don't see the need to put pressure on them, maybe they have some problems\\r\\nAmanda: It's just about planning, I don't want the scaffoldings to be there during the wedding\\r\\nJohn: they have to finish by the end of February\\r\\nAlexis: I would be harsh with them\\r\\nAlexis: we pay them a little fortune\\r\\nAlexis: so I also expect quality and efficiency \\r\\nAmanda: mom, you can't behave like this to workers, it's ugly and counterproductive \\r\\nAlexis: I know how to talk to workers, my dear, I've done it for decades \\r\\nJohn: Ok, I'll talk to them and we will see\\r\\nAlexis: I can also talk to them and I won't be nice\\r\\nJohn: calm down, let's wait to hear what they have to say\\r\\nAmanda: exactly!\",\n",
       " \"Tammy: looking for a birthday gift for Tina\\r\\nTammy: <file_photo>\\r\\nTammy: whatchya think \\r\\nChris: hmmm.....\\r\\nChris: looks nice. sure about the size?\\r\\nTammy: yep, she usually buy 10\\r\\nAmanda: like this t-shirt but maybe they have darker ones? navy blue or grey? i don't think Tina wears white...\\r\\nTammy: checkin it\\r\\nTammy: theres no black, i found purple and grey. so lets take the grey one?\\r\\nChris: cool\",\n",
       " \"Amanda: Fuck! There is a guy with a rifle kicking at my neighbour's door.\\nAmanda: He's shouting!!\\nAmanda: I'm scared.\\nPaula: WTF???\\nPaula: Call the police!!\\nAmanda: I'm scared he will hear me and will shoot at my door\\nWendy: I will call \\nWendy: Give me the exact address\\nAmanda: Hills Road 38, 8th floor\\nWendy: Ok, I'm calling\\nPaula: Fuck! This is horrible!\\nWendy: I have an officer on the line\\nWendy: Is the guy armed?\\nAmanda: Yes, he has a rifle\\nWendy: Do you know who he is?\\nAmanda: No idea\\nWendy: The police is on the way\\nAmanda: He's just shot!!!\\nAmanda: He broke into the apartment \\nWendy: The police will be there in 2 minutes\",\n",
       " 'Hannah: Where are you girls?\\r\\nDaniela: On the train to the airport\\r\\nHannah: Is everything ok?\\r\\nAmanda: yes, perfectly on time',\n",
       " 'Amanda: Hey Jasmine, I’m going to Rio next month\\r\\nAmanda: Any recommendations?\\r\\nAmanda: I know you’re a Rio expert ;-)\\r\\nJasmine: Hi\\r\\nJasmine: No problem, I can give you a few tips.\\r\\nJasmine: What do you want to know?\\r\\nAmanda: I already have a place to stay.\\r\\nAmanda: But I still have no clue what to do in Rio\\r\\nAmanda: Except for the Copacabana beach \\r\\nAmanda: And the Christ\\r\\nJasmine: Copacabana is worth seeing but I prefer Ipanema\\r\\nJasmine: If you want to party you should visit Lapa\\r\\nAmanda: Is it a club?\\r\\nJasmine: It’s a district in the center of Rio, there are many clubs but also street music\\r\\nJasmine: Different types of Brazilian music plus cheap drinks\\r\\nJasmine: But you need to be very careful, there are lots of thefts there\\r\\nAmanda: Ok, thanks for the warning\\r\\nJasmine: If you are into typical tourist attractions you can also go to Pão de Açucar\\r\\nAmanda: Yeah, I heard about it. I’ll go. ',\n",
       " 'Amanda: Is anyone going to the statistics lecture?\\r\\nTom: Yes!\\r\\nHilary: Me too.\\r\\nJason: Me 3.\\r\\nAmanda: Cool! Can someone sign the registry for me?\\r\\nHilary: No problem.\\r\\nAmanda: Thanks, Hillary!',\n",
       " \"Amanda: Did you see Linda's pics on FB?\\r\\nRita: Yep, totally lame, aren't they?\\r\\nAmanda: Totally. I feel sorry for her. Or am I?;-)\",\n",
       " \"Sue: Hi\\r\\nSue: Hows it going?\\r\\nRonnie: All gooood. And whatsup with u?\\r\\nSue: Got a new job 🙂 I earn much more than before.\\r\\nRonnie: Great!\\r\\nSue: I hope you're not short on cash.\\r\\nRonnie: I'm doing okay, why u ask?\\r\\nSue: Last year we couldn't go to Sunrise Festival, but this year I am more than ready!\\r\\nRonnie: Sunrise... how much for a ticket?\\r\\nSue: I wanna go all the way. Three days - 380PLN.\\r\\nRonnie: Fri, Sat, Sun, I'm in.\\r\\nSue: Awesome!\\r\\nRonnie: Where are we gonna sleep?\\r\\nRonnie: I know only expensive hotels in Kolobrzeg.\\r\\nSue: I have a friend, who lives there.\\r\\nRonnie: Call your friend 😃\\r\\nRonnie: That would be the cheapest 😃\\r\\nSue: Amanda told me already that we can sleep at her place.\\r\\nSue: But she wants to join us.\\r\\nRonnie: Hmm.. Does she know how to party?\\r\\nSue: Yeah, I give you my word she is a party animal.\\r\\nRonnie: If you say so.\\r\\nRonnie: It's fine with me.\\r\\nSue: Great! Happy to hear that 😃\\r\\nRonnie: Gotta go now\\r\\nSue: Me too, speak soon!\\r\\nRonnie: Bye\",\n",
       " 'Amanda: Anybody wants to come to my place tonight to try rum I brought from Grenada?\\nTom: yes!\\nLeo: me too\\nAngela: me!',\n",
       " \"Sam: hi there! What's up? Its been quite a while!\\r\\nAmanda: oh hi! I've been thinking about you recently, meant to write, but you know whats like, always busy... ;)\\r\\nSam: yeah, I know ;)\\r\\nJoe: oh hi! How are you? Yeah, time is running like crazy.\\r\\nSam: maybe a coffee or something? We've got quite a lot to discuss, I guess.\\r\\nAmanda: sounds good! Where, when?\\r\\nJoe: sounds good to me too:) \\r\\nJoe: maybe next week? this week Im so busy with my work :(\\r\\nSam: omg, you're still working overtime?\\r\\nJoe: yes :( no changes in this matter.\\r\\nAmanda: thats too bad:(\\r\\nAmanda: anyways, next week sounds good to me too. Maybe Tue or Wed?\\r\\nSam: Tue evening will be perfect.\\r\\nJoe: Ok, I'll try.\\r\\nSam: I suggest we catch up Monday to discuss the details.\\r\\nAmanda: ok, great.\\r\\nJoe: talk to you soon then! :)\",\n",
       " 'Amanda: Hello, Mr Andrews. May I take up some of your time?\\r\\nMr. Andrews: Hallo, Amanda. Of course. What’s on your mind?\\r\\nAmanda: Well, you gave us an essay...\\r\\nMr. Andrews: Yes. The deadline is on Monday. \\r\\nAmanda: I know, I know. I just wanted to ask you something.\\r\\nMr. Andrews: What is it?\\r\\nAmanda: Well, the truth is I have no idea what to write about.\\r\\nMr. Andrews: You can approach the topic from different angles. Consider them all, before you start. \\r\\nAmanda: I suppose... but what can I say about human rights?\\r\\nMr. Andrews: You can start with a little bit of history, maybe describe some movements and then say what’s it all about and then state your opinion. \\r\\nAmanda: Thank you!\\r\\nMr. Andrews: You’re welcome. ',\n",
       " \"Cynthia: Hiya, do you know where I can have passport photos taken?\\r\\nAmanda: Any boot will do I think? post office, Boots etc?\\r\\nCynthia: Oh sorry, I meant for the kids, I'll never get them to comply with those boots!\\r\\nAmanda: No that would be hard! wriggly little things...\\r\\nAmanda: erm I think maybe Tesco has a photo service in the back of the shop\\r\\nCynthia: aren't they just print machines?\\r\\nAmanda: No they have a little desk with a little man behind it\\r\\nCynthia: the little photo man? 🤣 🤣 🤣 \\r\\nAmanda: that's the one 👍 🤣 \\r\\nAmanda: there is also a photo shop in keynsham who will take pp photo's\\r\\nCynthia: on the high street?\\r\\nAmanda: yes, we have been there a few times, theyre great with kids!\\r\\nCynthia: better than the little man? 🤣 \\r\\nAmanda: probably! 😂 \\r\\nCynthia: Cool I'll venture to Keynsham\\r\\nCynthia: Are you allowed to countersign PP photos?\\r\\nAmanda: Yes, I think so\\r\\nCynthia: Awesome. Would you mind? \\r\\nAmanda: of course, no problem!\\r\\nCynthia: Are you around over the weekend for me to pop over? I'll hopefully have the pics by then.\\r\\nAmanda: yeah no worries, we are away on Saturday but in on Sunday\\r\\nCynthia: Great thank you so much. \\r\\nAmanda: are you staying for lunch? Ben would love to see the kids!\\r\\nCynthia: Oh yes please, lovely!\\r\\nAmanda: Great, 11?\\r\\nCynthia: perfect, see you soon!\",\n",
       " \"Amanda: Hey Angela, are you coming to the church meeting tonight?\\r\\nAngela: I don't thinks so. I have problems with my car.\\r\\nAmanda: I can pick you up if you want.\\r\\nAngela: That would be nice.\\r\\nAmanda: Cool. I'll be at your place at 7:30.\",\n",
       " \"Amanda: Is anybody in New York these days?\\r\\nLori: I'm in Vancouver :(\\r\\nJane: I am in town!\\r\\nAmanda: wanna meet? I am coming from Boston tomorrow\\r\\nJane: Sure, I'm going to an exhibition in Moma\\r\\nJane: wanna join?\\r\\nAmanda: great idea! How much is the entrance, you know I'm unemployed now :(\\r\\nJane: I think Friday evening it's free!\\r\\nAmanda: perfect!\\r\\nJane: then we can have some coffee or even clubbing if you prefer\\r\\nAmanda: I would love to have the donuts we had last time\\r\\nJane: No problem! That's even close to my place\\r\\nLori: girls, this conversation makes me so envious!\\r\\nJane: ahaha, you're in Vancouver, allegedly one of the most amazing cities in the world\\r\\nJane: Behave girl!\\r\\nAmanda: 😂\",\n",
       " \"Amanda: The musicians have just called me! They agreed to play at the wedding\\r\\nMichael: Good news! \\r\\nAmanda: I'm really glad as well:)\",\n",
       " \"Miriam: we're going to L’Escale tonight, wanna join?\\nJean: just for a walk?\\nJean: or some other plans as well?\\nMiriam: I thought about a walk, but we can do some other stuff as well of course\\nCecil: about 19?\\nAmanda: I would start at 17, before the sun sets\\nAmanda: then we could have dinner\\nMiriam: but where?\\nAmanda: Moonlight?\\nMiriam: great idea! I haven't been there for ages!\\nJean: I would prefer to eat in the African Quarter\\nMiriam: but any ideas?\\nJean: Chez Youssouf \\nMiriam: I don't know it\\nJean: really?\\nJean: then we have to go there tonight! Youssouf have amazing food\\nJean: you'll love it!\\nCecil: the Austrian guy from my office recommended it to me once\\nJean: because it's genial\\nMiriam: ok! let's do it\",\n",
       " \"Karen: I've just landed!\\r\\nMary: We're in the arrivals hall waiting for you :-)\\r\\nAmanda: Yes! You cannot miss us :D :D :D\",\n",
       " 'Ronnie: can u recommend a good book?\\r\\nAmanda: sure, what type?\\r\\nRonnie: fantasy? sth nice\\r\\nAmanda: u probably red Harry Potter?\\r\\nRonnie: of course\\r\\nAmanda: try Neil Gaiman\\r\\nRonnie: is he good?\\r\\nAmanda: I liked him :)\\r\\nRonnie: ok, thanks :)',\n",
       " \"Henry: We're thinking about going for a weekend to one of the European capitals. Any suggestions?\\r\\nKate: London! I love London.\\r\\nMichele: No - dirty, expensive, overrated! a romantic weekend only in Paris\\r\\nHenry: I appreciate the options, but don't you think they're pretty banal? And we've seen both of them anyway\\r\\nAmanda: So maybe Vienna?\\r\\nHenry: isn't it also quite expensive?\\r\\nMichele: Not really, significantly cheaper than Paris or London for sure\\r\\nLia: Kopenhagen is also cute, but dreadfully expensive\\r\\nHenry: So we'll maybe stay with Vienna!\\r\\nHenry: Amanda, we owe you a magnet from the city\\r\\nAmanda: Please, only not magnets 😂 good wine is enough\\r\\nHenry: deal!\",\n",
       " 'Amanda: could you buy a bottle of wine on the way home?\\r\\nTerry: what kind of wine?\\r\\nAmanda: what do you prefer?\\r\\nTerry: you asked me to buy wine\\r\\nAmanda: so maybe red would be better\\r\\nTerry: I think so, any particular\\r\\nAmanda: I leave it to you \\r\\nTerry: ok',\n",
       " 'Amanda: i’m going shopping after work i want u to come with me \\r\\nRuth: i can’t. i’m pretty busy. What do u need to buy? \\r\\nAmanda: a dress\\r\\nRuth: you bought one last month remember?!\\r\\nAmanda: i know but need another one\\r\\nRuth: still don’t understand why?\\r\\nAmanda: i think Rob is gonna pop the question!\\r\\nRuth: you know he is gonna pop it anyway right?!\\r\\nAmanda: i know but just wanna look stunning.. \\r\\nRuth: Fine! i’ll help u find the right dress.',\n",
       " \"Alex: so can u make it this week?\\nChloe: i guess not\\nChloe: Pete has night shifts so i have to stay with Kate in the evenings\\nChloe: because her nanny is sick\\nChloe: :/\\nChloe: I'm not 100% sure yet\\nChloe: will let u know tonight i hope\\nAmanda: ok\\nChloe: anyway, as i said the only option is tue and thu night\\nChloe: plus thu in the afternoon\\nAmanda: ok just let me know\\nAmanda: I can do both\\nChloe: ok\",\n",
       " \"Sean: Anybody wants to have a coffee with me in the city centre?\\r\\nJosh: hmm, city centre of what city?\\r\\nSean: Bologna of course\\r\\nJosh: hmm, why of course? :P\\r\\nSean: you all live in Bologna right now, don't you\\r\\nJosh: I've moved to Brussels\\r\\nSean: I didn't know!\\r\\nJosh: I got a new job, I'm quite happy\\r\\nSean: so I'm happy too! so no coffee with you today:(\\r\\nAmanda: but I'm still in Bologna, what are you doing here?\\r\\nJean: but you're invited to Belgium!\\r\\nSean: I'm flying from Bologna to Amsterdam\\r\\nAmanda: is everybody moving to the Benelux?\\r\\nSean: ahaha, I'm going there only for 2 days, way to humid for me! \\r\\nSean: At the station at 12.00?\\r\\nAmanda: perfect for a brunch!\\r\\nSean: yup!\",\n",
       " \"Greta: I talked to Amanda\\r\\nGreta: She's devastated\\r\\nLyocell: What happened?\\r\\nGreta: She had a miscarriage \\r\\nTed: I'm sorry\\r\\nTed: It must be really painful for her\\r\\nGreta: It is. I tried to cheer her up but she's really depressed. \",\n",
       " 'Chris: bue me a coffe on your way to office\\r\\nAmanda: 2 shots of espresso?\\r\\nChris: yes, thanks, u know me so well :)',\n",
       " \"Lucas: <file_video>\\r\\nTom: Nice\\r\\nLucas: Oh sorry guys\\r\\nLucas: This video was supposed to be for Trudy only\\r\\nTrudy: Thank you, that's sweet\\r\\nTom: Nice birthday wishes\\r\\nAmanda: You look good Lucas\\r\\nLucas: I'm sorry, I haven't slept in 2 days\\r\\nLucas: Too tired\\r\\nTrudy: I don't mind. It's a nice video. Thank you! \",\n",
       " \"Andrea: where are you?\\nMicky: we're still in the car\\nAmanda: just in front of the restaurant\\nIris: what? why?\\nMicky: discussing the surprise, there was some misunderstanding\\nMicky: so we will be there in 5 min\\nAndrea: ok\",\n",
       " \"Amanda: Hi. Remember to take the lunch box! It's in the fridge.\\r\\nBran: Mom, can't I buy lunch at school?\\r\\nAmanda: Take the lunch box. End of discussion.\",\n",
       " 'Amanda: Does anyone know when the biology test is?\\r\\nCeline: Mrs Kohl said it would be next Tuesday.\\r\\nRobert: That\\'s right. \\r\\nAmanda: Cool, so we still have a week.\\r\\nRobert: Yes, but there is a lot to study. \\r\\nNick: You should guys relax. I\\'ll study one day before. \\r\\nAmanda: Nick always studies one day before and gets an \"A\". How does he do it?\\r\\nRobert: He\\'s a genius. Not like us... ',\n",
       " \"Amanda: Greetings from Moldova guys <file_photo>\\r\\nMichael: Chișinău to be precise 😜 \\r\\nAlexis: looks cold!\\r\\nAmanda: it really is.\\r\\nMichael: But food is amazing here.\\r\\nAlexis: A lot of meat I assume?\\r\\nMichael: Not really, a bit veggie as well\\r\\nAlexis: How long will you stay there?\\r\\nAmanda: We want to sightsee a bit after the wedding\\r\\nMichael: We're taking a bus to Bucharest on 5 of October, 7 of October we've a flight to London.\\r\\nAlexis: nice, I've heard Moldova is beautiful in summer\\r\\nMichael: it seems so, now it's rather dark and depressive\\r\\nAlexis: like everywhere in winter, right?\\r\\nAmanda: But the omnipresent poverty is even more visible I think in this grey, dark reality of winter.\\r\\nAlexis: Sad, right?\\r\\nAmanda: Very. But one cannot do much. \\r\\nAlexis: many beggars?\\r\\nAmanda: Not even so many. Everybody just seems so poor.\\r\\nMichael: Almost everybody, apart from few limousines hog the roads here.\\r\\nAlexis: let me know when you're back in London. I want you to come over for a dinner. and tell us everything \\r\\nAmanda: with pleasure.\",\n",
       " \"Tom: What's the homework for tomorrow?\\r\\nAmanda: Which class?\\r\\nTom: English\\r\\nAmanda: Let me check\\r\\nPatrick: p. 66 ex 7&8\\r\\nAmanda: There's also an essay\\r\\nPatrick: But it's due next week\\r\\nAmanda: True. \",\n",
       " \"Amanda: Today is Black Friday!! \\r\\nRose: And?\\r\\nAmanda: I'm just checking the crazy deals at Amazon!!\\r\\nRose: Capitalistic bullshit.\\r\\nMary: I'm not getting anything either.\\r\\nAmanda: Are you serious? You can get stuff so much cheaper.\\r\\nRose: Stuff made by little undernourished Chinese hands?\\r\\nRose: No, thank you.\\r\\nAmanda: And all the clothes that you wear? Don't be a hypocrite!\\r\\nRose: I stopped buying them. \\r\\nRose: I'm not supporting modern day slavery!\\r\\nMary: I don't think these Black Friday deals are so awesome anyways.\\r\\nMary: I don't have time for this nonsense. \\r\\nMary: Browsing the Internet all day, nah.... not for me... \",\n",
       " \"Karen: Do you fart next to your boyfriends?\\nPatty: What kind of question is that??\\nAmanda: I do. But he started doing it first.\\nAmanda: Quite fast. After 2 weeks together... \\nKaren: We've been together for a month already\\nKaren: And recently I really needed to fart\\nKaren: But I went to the toilet\\nKaren: He has also never farted next to me. \",\n",
       " \"Karen: I've just landed!\\r\\nMary: We're in the arrivals hall waiting for you :-)\\r\\nAmanda: Yes! You cannot miss us :D :D :D\",\n",
       " \"Amanda: did you talk to mum?\\r\\nVictor: no, why?\\r\\nAmanda: she wanted to have a family dinner this friday\\r\\nVictor: damn, I already got plans\\r\\nAmanda: can't you cancel? it would make her really happy\\r\\nVictor: i'll see what I can do\\r\\nAmanda: just call her\\r\\nVictor: is there an occasion that I don't know of?\\r\\nAmanda: I don't think so. she didn't say\\r\\nVictor: cool, I'll call her later\\r\\nAmanda: are you at work?\\r\\nVictor: yup. gotta go\\r\\nAmanda: ok \",\n",
       " \"Tim: We're thinking about flying to Iceland this summer\\r\\nJerry: we?\\r\\nTim: haha, me and Jim\\r\\nAmanda: I'd love to go to Iceland\\r\\nAmanda: are you telling us this to make us envious or what?\\r\\nTim: no, we're thinking about forming a group\\r\\nTim: this would be cheaper - renting a SUV etc\\r\\nJerry: right, if you want to explore the island you need a good car\\r\\nJerry: i'd be interested but it depends on how long you're going to stay there and when\\r\\nTim: we thought about the end of June\\r\\nTim: then we could see the midnight sun\\r\\nJerry: that sounds good\\r\\nAmanda: I like it as well\\r\\nMarcia: Me too\\r\\nJerry: great, so think about it and let me know in the next weeks, so we could plan it\",\n",
       " \"Kate: I'm going to give a talk tomorrow at Magdalene's college if some of you want to come.\\r\\nJohn: Great. What time?\\r\\nKate: It starts at 8 p.m.\\r\\nAmanda: Sorry, I'm too busy tomorrow. But tell me all about it when we meet.\",\n",
       " \"Lizzy: Hey, can you take notes for me in Biology tomorrow?\\r\\nAmanda: Umm... where are you going to be?\\r\\nLizzy: I have a doctor's apt tomorrow at 9.\\r\\nAmanda: Ok, sure. No problem, except you know how Professor Gray gets when he sees someone away.\\r\\nLizzy: If he mentions something, let him know. I'll talk to him next class. I have to see him about something anyway.\\r\\nAmanda: Ok\\r\\nLizzy: Thanks.\\r\\nAmanda: Are you sick?\\r\\nLizzy: I have to get something checked out, that's all. And I finally got an apt to a really good doctor.\\r\\nAmanda: Ok, tell me about it tomorrow.\",\n",
       " \"Amalia: Is anybody in the city centre tonight?\\r\\nAmanda: I will rather stay home, it's too cold\\r\\nJoan: it's terrible outside, I won't go out today anymore for sure\\r\\nTony: hahaha, Amanda, I guess it's an answer to your question\\r\\nAmalia: hahaha, right\\r\\nAmalia: what about you Tony?\\r\\nTony: I'm already on my way home. Let's meet some other day\\r\\nAmalia: ok\",\n",
       " 'Amanda: Hi! Do you know actually the meaning of your names?\\r\\nJeff: I think everybody knows, right?\\r\\nAmanda: i\\'ve just discovered what my name means, I\\'ve never thought about it before\\r\\nJeff: and?\\r\\nAmanda: \"worthy of love\" more or less\\r\\nJeff: quite cool\\r\\nAmanda: I\\'ve just understand what my grandfather referred to when he was saying \"my lovable Amanda\" \\r\\nJeff: how cute!\\r\\nJeff: my name is actually diminutive from Jefferson which means \"peaceful pledge\"\\r\\nJeff: at least the internet says so\\r\\nSteven: a bit strange, so common though\\r\\nJeff: and Steven?\\r\\nSteven: actually \"crown\" hahaha\\r\\nSteven: it\\'s a Greek name\\r\\nAmanda: I like the name Steven very much\\r\\nCamile: mine name means \"born free\" and \"noble\"\\r\\nCamile: but apparently in Arabic it means \"the perfect one\"\\r\\nCamile: hahah\\r\\nRose: a very nice name indeed\\r\\nCamile: thanks, but quite unusual in the English speaking countries\\r\\nCamile: it\\'s a French name',\n",
       " \"Mary: Hi guys, we (me & Tom of course) want to go for some bigger holidays this summer, and for the first time with the children\\r\\nMary: Do you have any suggestions? We were thinking about the Maldives, but they seem quite expensive\\r\\nTom: So maybe you have some other ideas/experiences/alternatives?\\r\\nJeff: oh, wow! I would never go to the Maldives with my salary\\r\\nTom: Is it that bad?\\r\\nJeff: of course! and I don't think it's particularly good for families\\r\\nAmanda: No, it's one of those typical lovers destinations I think\\r\\nMary: So what? We'd like to do something more exotic for once\\r\\nAmanda: If you want to go the Indian Ocean you should rather choose Mauritius \\r\\nJeff: Yes, we really enjoyed it 2 years ago\\r\\nJeff: it's safe, not too expensive and amazing for children\\r\\nMary: ok, we didn't know, magazines are full of the Maldives now\\r\\nJeff: I think they are having an advertisement campaign now\\r\\nMary: what air lines would you suggest to make it comfortable but also cut the costs?\\r\\nJeff: British Airways has some good offers sometimes\\r\\nJeff: But we always fly with Air France honestly \\r\\nMary: why?\\r\\nJeff: I like their style, offers, even food on board \\r\\nMary: haha, ok, so we will check them\\r\\nTom: we'll keep you posted here in case we have some more questions\\r\\nJeff: sure, feel free to ask!\\r\\nMary: thanks!\",\n",
       " \"Amanda: How are you doing Jeff?\\r\\nJeff: Scared, as predicted\\r\\nSteven: poor you\\r\\nSteven: Have you taken the pills?\\r\\nJeff: yes, I've just done it. But they don't seem to help much\\r\\nAmanda: try to relax, there are thousands of flights everyday around the world and 99.99% safe\\r\\nJeff: I know all of this, but the fear is not rational\\r\\nSteven: But they say that there is nothing better than than facing you phobia\\r\\nJeff: I know! I'll do my best\\r\\nJeff: Thank you guys for you support\",\n",
       " \"Hannah: Hey, do you have Betty's number?\\nAmanda: Lemme check\\nHannah: <file_gif>\\nAmanda: Sorry, can't find it.\\nAmanda: Ask Larry\\nAmanda: He called her last time we were at the park together\\nHannah: I don't know him well\\nHannah: <file_gif>\\nAmanda: Don't be shy, he's very nice\\nHannah: If you say so..\\nHannah: I'd rather you texted him\\nAmanda: Just text him 🙂\\nHannah: Urgh.. Alright\\nHannah: Bye\\nAmanda: Bye bye\",\n",
       " \"Amanda: have you seen the guy with dreads?\\nPeter: yes, so awkward!\\nDan: hahaha, very, but cool!\\nAmanda: I'm not convinced\",\n",
       " \"Vincent: did you watch parks and rec\\r\\nVincent: did you like it?\\r\\nAmanda: it was ok :-/\\r\\nAmanda: i'm not a big fan of the woman who plays the main character\\r\\nAmanda: what's her name\\r\\nVincent: amy poehler\\r\\nVincent: she's so funny :-)\\r\\nVincent: give the show another try\\r\\nAmanda: i will\",\n",
       " \"Lorenzo: Where are you?\\r\\nWill: I'm on the train in Arezzo\\r\\nAmanda: I'm on the highway still\\r\\nLorenzo: I've just arrived here\\r\\nAmanda: if you want you can call the guy from airbnb and already take the keys\\r\\nAmanda: you can even go there and wait for us inside\\r\\nLorenzo: hmm, I would prefer to wait for you guys\\r\\nAmanda: But I need at least another hour\\r\\nAmanda: And Will even more from Arezzo\\r\\nWill: really? I though I was quite close\\r\\nAmanda: not at all hahaha\\r\\nLorenzo: ok, so I'll take the keys and go to the room.\\r\\nAmanda: perfect, let us know it everything is ok\\r\\nLorenzo: ok\\r\\nLorenzo: I'm here, the room is very nice and we have an amazing view on the duomo!\\r\\nLorenzo: <file_photo>\\r\\nWill: wow! impressive, and wasn't even that expensive\\r\\nAmanda: I looked quite long for a room with a view\\r\\nLorenzo: hahahah we are now proper 19th century British tourists in Tuscany \\r\\nWill: I haven't seen the movie\\r\\nLorenzo: nothing special really\\r\\nAmanda: I liked it a lot!\",\n",
       " \"Jose: merry christmas!\\r\\nRicky: Merry Christmas!\\r\\nAmanda: Happy holidays!\\r\\nAmanda: And a happy new year\\r\\nRicky: 2019 will be awesome!!\\r\\nRicky: So many adventures to come!!\\r\\nJose: I can't wait for the summer to come\\r\\nAmanda: Me too!!\\r\\nRicky: I'm excited to go to Cuba\\r\\nJose: I'm more than happy to be your guide\\r\\nAmanda: 2019 will bring us lots of traveling\\r\\nJose: Cuba, Mexico, Thailand!\\r\\nAmanda: And more!\",\n",
       " \"Amanda: guess what!\\r\\nChris: hey ;) ur pregnant!\\r\\nAmanda: noo ;) but close enough! I'm so proud of myself! Remember I go to these dancing classes with Michael?\\r\\nChris: Yeah?\\r\\nAmanda: So we went yesterday and the instructor needed a partner to show the steps we had so far\\r\\nChris: so there's only one guy teaching you? without a female partner?\\r\\nAmanda: Well, this time he was alone, BUT THAT'S NOT THE POINT! Listen!\\r\\nChris: yeah, sorry :D tell me!\\r\\nAmanda: So he needed a partner and noone really knew the steps like perfectly \\r\\nAmanda: and obviously noone wanted to be mocked \\r\\nAmanda: so I thought, aaaah fuck it :D\\r\\nChris: u volunteered? really? you??\\r\\nAmanda: yeah! \\r\\nChris: whooa! that's so great! #therapy #worthit :D\\r\\nAmanda: yeah i know :D maybe one day i'll actually stop being so shy\\r\\nChris: that's definitely the first step! :D congrats! \\r\\nAmanda: tx ^_^\\r\\nChris: what dance was it?\\r\\nAmanda: English waltz\\r\\nChris: isn't it, like, SO difficult?\\r\\nAmanda: yeah it is! but everyone said I looked like a pro :D\\r\\nChris: Well done!! \",\n",
       " \"Amanda: oh no, my phone charger has stopped working\\r\\nKeith: the cable or the charger itself?\\r\\nAmanda: dunno, it just won't charge\\r\\nKeith: can't you ask your sister to lend you hers?\\r\\nAmanda: but I have an iphone and she has a samsung\\r\\nKeith: hmm, yeah, but the charger itself should be the same. so if you use your cable with her charger, you could see if it works?\\r\\nKeith: then at least you'll know which part needs replacing\\r\\nAmanda: oh, I could do that, yeah\\r\\nAmanda: should I get the spare part from apple or...?\\r\\nKeith: idk, I've never had an iphone. I hear not all cables are compatible for some reason but imo you should be able to find a cheaper replacement that should work... their prices are too high\\r\\nAmanda: uhh... alright, I guess checking what's wrong comes first\\r\\nKeith: can you do it now?\\r\\nAmanda: yeah, I'll brb\\r\\nKeith: k\\r\\nAmanda: back\\r\\nAmanda: and it's still not charging :(\\r\\nKeith: then it must be the cable. or...\\r\\nAmanda: or?? there's another possibility?\\r\\nKeith: well, I guess there might be sth wrong with the charging port but that's the worst case scenario\\r\\nKeith: so let's not think about it yet?\\r\\nAmanda: I'm a bit worried now but ok :(\\r\\nKeith: I've found some shop that sells replacement cables\\r\\nKeith: <file_other>\\r\\nKeith: I'd try this one first, see if the phone detects the cable at all\\r\\nKeith: cuz if it does, then problem solved, if it doesn't... then it might be the port\\r\\nKeith: but it's cheap enough to give it a try\\r\\nAmanda: thanks, I'll do that... I hope it'll work, not sure if I can afford a repair :/\",\n",
       " 'Trevor: So, no news?\\r\\nAmanda: No, not yet.\\r\\nTrevor: How are you doing?\\r\\nAmanda: Bad.\\r\\nTrevor: Want me to come over?\\r\\nAmanda: Please.',\n",
       " \"Amanda: The tutorial office is closed\\nGlesny: Yes we are at a meeting\\nKelly: Room 36\\nAmanda: I forgot about this meeting\\nAmanda: I will wait until it's over\\nAmanda: It's better than coming 1 hour late \\nKelly: As you wish\\nKelly: Anyways the meeting is almost over \\nGlesny: No worries, you didn't miss much \",\n",
       " \"Amanda: Claudette is such a bitch!!\\nLillian: What did she do?\\nPetra: You didn't see the pictures???\\nPetra: I thought everyone got them...\\nAmanda: <photo_file>\\nAmanda: <photo_file>\\nAmanda: <photo_file>\\nAmanda: And this one is the best: \\nAmanda: <photo_file> \\nLillian: OMG\\nLillian: Is that Thomas?\\nAmanda: Himself...\\nLillian: This is so wrong\\nLillian: How did you get these pictures??\\nLillian: They are VERY intimate\\nAmanda: Dunno everybody is passing them around\\nLillian: I don't like it at all\\nAmanda: But she's a bitch she deserves it\\nLillian: Why? \\nLillian: Nobody deserves to be exposed like that\\nLillian: And Thomas?? Nobody calls him a bitch\\nLillian: After all, Thomas is the one who is in a relationship and was caught having sex with her\\nAmanda: She seduced him\\nLillian: He should think with his brain and not only with his dick\",\n",
       " \"Turkay: Greetings from sunny Baku \\r\\nTurkay: <file_photo>\\r\\nJenny: how beautiful! thanks a lot, greetings from Rome\\r\\nTom: Are you in Azerbaijan right now?\\r\\nTurkay: Yes, I'm staying here till September\\r\\nAmanda: it seems a big city in the pic\\r\\nTurkay: oh yes, it is quite big\\r\\nAmanda: how many people live there?\\r\\nTurkay: more than 2 millions\\r\\nAmanda: wow, that's more than most capital cities in Europe\\r\\nTurkay: it is. You should visit me here\\r\\nAmanda: That's a nice idea. I'll check the flights today and let you know\\r\\nTurkay: amazing! \",\n",
       " \"Harvey: do you really wanna go to that skiing resort?\\r\\nHarvey: you are aware it is a three hour drive to get there right?\\r\\nHarvey: that's a loooooooong drive!\\r\\nCarol: i know i know\\r\\nCarol: and since i'm not doing any of the driving i'll pay for the gas :-D\\r\\nHarvey: that's a very generous thing to go\\r\\nCarol: and snacks!!! :-)\\r\\nHarvey: thank you very much!\\r\\nCarol: how do you feel about going tomorrow?\\r\\nHarvey: tomorrow is saturday and i work every other saturday\\r\\nHarvey: and i need to work tomorrow :-(\\r\\nHarvey: let's either do it on sunday or next saturday\\r\\nCarol: next saturday works out better for me\\r\\nCarol: do you mind if i invite jon and amanda to tag alon?\\r\\nHarvey: of course not!!! i like them a lot!\\r\\nCarol: they've never been skiing before\\r\\nCarol: it will be a new experience for all of us\\r\\nHarvey: except for me! i've been skiing since i was a child\\r\\nCarol: really? i thought you'd never done it\\r\\nHarvey: i grew up in the snow and used to ski all the time\\r\\nHarvey: i also used to play hockey and skate\\r\\nCarol: that sounds like fun\\r\\nHarvey: we can do all that next week!\",\n",
       " \"Amanda: Hun, are you still at the mall?\\r\\nNick: Yep.\\r\\nAmanda: Can you buy some bread?\\r\\nNick: Wholegrain?\\r\\nAmanda: My boy <3\\r\\nNick: You're always on diet!\\r\\nAmanda: Well, the summer is coming, I need to get in shape!\\r\\nNick: Oh, come on, you look great!\\r\\nAmanda: You know that it's not true, I had terrible thighs...\\r\\nNick: I love your full body, my sweet doughnut!\\r\\nAmanda: Shut up!\\r\\nNick: Come on, I'm joking.\\r\\nAmanda: Well, it's not funny, you'd better stop!\\r\\nNick: Okay okay, just don't get angry...\\r\\nAmanda: Oh, and some avocados, please!\\r\\nNick: Roger that!\",\n",
       " \"Peter: Did you get the tickets?\\nAmanda: To the Harry Potter formal hall? yes!!!\\nOlivier: Me too\\nPeter: The tickets are sold out now\\nAmanda: Did you get yours?\\nPeter: No...\\nPeter: I'll try to get one second hand \\nPeter: People tend to resign last minute \",\n",
       " \"Dean: How did the party go after I left?\\r\\nSam: omg man\\r\\nSam: it was wiiiiiiiiiiiiild\\r\\nDean: did you go out?\\r\\nSam: we stayed in a little longer\\r\\nSam: and then went to a club\\r\\nDean: which one?\\r\\nSam: club 55?\\r\\nDean: it is wild :D\\r\\nSam: Amanda left after 20 minutes with some guy who looked exactly like her ex whom she claims she's over \\r\\nDean: :D\\r\\nSam: the rest of us dance and drunk a lot a lot\\r\\nSam: I met someone too\\r\\nSam: but, get that, she puked all over my shoes when we where leaving :D\\r\\nDean: classy\\r\\nSam: <file_photo>\\r\\nDean: Dude you're sick\\r\\nDean: did you steal bang her\\r\\nSam: you know I did\",\n",
       " \"Amanda: what are you cooking tonight? need some ideas! x\\r\\nHarry: not cooking ordering pizza ;)\\r\\nVictoria: shepherd's pie\\r\\nJim:  beef casserole\\r\\nLily: roasted chicken + veggies & potatoes\\r\\nHarry: delicious!\\r\\nAmanda: any vegetarian dishes tonight?\\r\\nVictoria: you can replace lamb with lentils\\r\\nAmanda: sounds interesting i never tried that\\r\\nJim: yeah, we use lentils, beans, chickpeas as well they are nutritious and satisfying\\r\\nGreg: i'm cooking macaroni cauliflower cheese! my favourite!\\r\\nTom: we're having veggie chilli! yum yum! but it's gonna be takeaway!\\r\\nAmanda: is there meat in it? \\r\\nTom: No, just lots of veggies and beans\\r\\nAmanda: i'm gonna try to cook it myself!\"]"
      ]
     },
     "execution_count": 49,
     "metadata": {},
     "output_type": "execute_result"
    }
   ],
   "source": [
    "x['document']"
   ]
  },
  {
   "cell_type": "code",
   "execution_count": null,
   "metadata": {},
   "outputs": [],
   "source": []
  }
 ],
 "metadata": {
  "kernelspec": {
   "display_name": "langgen",
   "language": "python",
   "name": "python3"
  },
  "language_info": {
   "codemirror_mode": {
    "name": "ipython",
    "version": 3
   },
   "file_extension": ".py",
   "mimetype": "text/x-python",
   "name": "python",
   "nbconvert_exporter": "python",
   "pygments_lexer": "ipython3",
   "version": "3.10.6"
  }
 },
 "nbformat": 4,
 "nbformat_minor": 2
}
